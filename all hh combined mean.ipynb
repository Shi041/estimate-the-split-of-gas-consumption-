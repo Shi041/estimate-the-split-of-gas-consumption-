{
 "cells": [
  {
   "cell_type": "markdown",
   "id": "f8eb0d44",
   "metadata": {},
   "source": [
    "import pandas as pd\n",
    "import matplotlib.pyplot as plt\n",
    "import numpy as np"
   ]
  },
  {
   "cell_type": "markdown",
   "id": "d1514978",
   "metadata": {
    "scrolled": false
   },
   "source": [
    "import pandas as pd\n",
    "\n",
    "# List of file paths\n",
    "file_paths = [f'data/HH{i:02d}_all1.csv' for i in range(1, 31)]\n",
    "\n",
    "# Words to filter out\n",
    "filter_words = ['wind', 'rain', 'solar', 'hpa']\n",
    "\n",
    "# Dictionary to store DataFrames\n",
    "dataframes = {}\n",
    "\n",
    "# Load and rename columns for each DataFrame\n",
    "for i, file_path in enumerate(file_paths, start=1):\n",
    "    df = pd.read_csv(file_path)\n",
    "    # Rename 'Unnamed: 0' to 'date'\n",
    "    df.rename(columns={'Unnamed: 0': 'date'}, inplace=True)\n",
    "    # Rename other columns to include file identifier\n",
    "    df.columns = [f'{col}_{i}' if col != 'date' else col for col in df.columns]\n",
    "    # Filter out columns containing any of the filter words\n",
    "    df = df[[col for col in df.columns if not any(word in col.lower() for word in filter_words)]]\n",
    "    # Set 'date' as index\n",
    "    df.set_index('date', inplace=True)\n",
    "    # Store DataFrame in dictionary\n",
    "    dataframes[i] = df\n",
    "\n",
    "# Combine all DataFrames on the 'date' index using outer join\n",
    "combined_df = pd.concat(dataframes.values(), axis=1, join='inner')\n",
    "\n",
    "# Find the mean value for each group of similar columns\n",
    "mean_df = pd.DataFrame(index=combined_df.index)\n",
    "\n",
    "# Group columns by their base name (before the suffix)\n",
    "for base_col in set(col.rsplit('_', 1)[0] for col in combined_df.columns):\n",
    "    similar_cols = [col for col in combined_df.columns if col.startswith(base_col)]\n",
    "    if similar_cols:\n",
    "        mean_df[f'{base_col}_mean'] = combined_df[similar_cols].mean(axis=1)\n",
    "\n",
    "# Display the DataFrame with mean values\n",
    "mean_df.dtypes\n"
   ]
  },
  {
   "cell_type": "markdown",
   "id": "6e1c60b7",
   "metadata": {},
   "source": [
    "plt.plot(mean_df['bed_temp_mean'])\n",
    "plt.show()"
   ]
  },
  {
   "cell_type": "markdown",
   "id": "96387aa0",
   "metadata": {},
   "source": [
    "memory_usage = mean_df.memory_usage(deep=True)\n",
    "total_memory = memory_usage.sum()\n",
    "\n",
    "print(\"Memory usage by column (in bytes):\")\n",
    "print(memory_usage)\n",
    "print(f\"Total memory usage: {total_memory / (1024 ** 2):.2f} MB\")"
   ]
  },
  {
   "cell_type": "code",
   "execution_count": 9,
   "id": "f91a985a",
   "metadata": {},
   "outputs": [
    {
     "name": "stdout",
     "output_type": "stream",
     "text": [
      "               date  frontbed_temp_mean  kit_temp_mean  dining_temp_mean  \\\n",
      "0  08/03/2020 00:00           20.830381      20.686141             22.30   \n",
      "1  08/03/2020 00:30           20.510556      20.601630             20.52   \n",
      "2  08/03/2020 01:00           20.618714      20.355975             20.08   \n",
      "3  08/03/2020 01:30           20.521286      20.136840             19.68   \n",
      "4  08/03/2020 02:00           20.732722      20.348987             21.17   \n",
      "\n",
      "   backroom_temp_mean  bath_hum_mean  toilet_hum_mean  smallbed_temp_mean  \\\n",
      "0                 NaN      53.743913             42.8              21.850   \n",
      "1               21.07      55.335417             43.5              21.845   \n",
      "2               20.46      55.742800             44.2              21.845   \n",
      "3               20.20      55.981600             43.5              21.775   \n",
      "4               19.99      57.528000             43.4              21.800   \n",
      "\n",
      "   bed_hum_mean  smallbed_hum_mean  ...  backbed_hum_mean  \\\n",
      "0     56.405882              62.15  ...             53.16   \n",
      "1     56.150000              61.60  ...             53.74   \n",
      "2     57.241176              61.30  ...             54.10   \n",
      "3     56.594444              61.40  ...             54.40   \n",
      "4     56.827778              61.25  ...             54.76   \n",
      "\n",
      "   Atmos press (hPa)_mean  util_temp_mean  toilet_temp_mean  \\\n",
      "0              994.666667           19.83             23.84   \n",
      "1              994.000000           19.55             23.74   \n",
      "2              994.000000           19.91             23.67   \n",
      "3              993.333333           20.36             23.56   \n",
      "4              993.000000           19.99             23.45   \n",
      "\n",
      "   masterbed_temp_mean  Gas m3_mean  kit_hum_mean  liv_hum_mean  \\\n",
      "0            20.390711     0.048621     57.991200     54.000714   \n",
      "1            20.154976     0.032000     57.956923     54.122857   \n",
      "2            20.085067     0.024667     58.089615     54.249286   \n",
      "3            20.011267     0.032333     58.235769     54.428519   \n",
      "4            19.961467     0.035333     58.053600     54.825000   \n",
      "\n",
      "   bath_temp_mean  box_temp_mean  \n",
      "0       19.214130      22.503333  \n",
      "1       18.975417      22.290000  \n",
      "2       18.696600      21.825000  \n",
      "3       18.514000      21.623333  \n",
      "4       18.628000      21.473333  \n",
      "\n",
      "[5 rows x 46 columns]\n"
     ]
    }
   ],
   "source": [
    "import pandas as pd\n",
    "from functools import reduce\n",
    "\n",
    "# List of file paths\n",
    "file_paths = [f'data/HH{i:02d}_all1.csv' for i in range(1, 31)]\n",
    "\n",
    "# Words to filter out\n",
    "filter_words = ['wind', 'rain', 'solar', 'atoms']\n",
    "\n",
    "# List to store DataFrames\n",
    "dataframes = []\n",
    "\n",
    "# Load and rename columns for each DataFrame\n",
    "for i, file_path in enumerate(file_paths, start=1):\n",
    "    df = pd.read_csv(file_path)\n",
    "    # Rename 'Unnamed: 0' to 'date'\n",
    "    df.rename(columns={'Unnamed: 0': 'date'}, inplace=True)\n",
    "    # Rename other columns to include file identifier\n",
    "    df.columns = [f'{col}_{i}' if col != 'date' else col for col in df.columns]\n",
    "    # Filter out columns containing any of the filter words\n",
    "    df = df[[col for col in df.columns if not any(word in col.lower() for word in filter_words)]]\n",
    "    # Append DataFrame to the list\n",
    "    dataframes.append(df)\n",
    "\n",
    "# Perform inner join on the 'date' column for all DataFrames\n",
    "combined_df = reduce(lambda left, right: pd.merge(left, right, on='date', how='inner'), dataframes)\n",
    "\n",
    "# Find the mean value for each group of similar columns\n",
    "mean_df = pd.DataFrame()\n",
    "mean_df['date'] = combined_df['date']\n",
    "\n",
    "# Group columns by their base name (before the suffix)\n",
    "for base_col in set(col.rsplit('_', 1)[0] for col in combined_df.columns if col != 'date'):\n",
    "    similar_cols = [col for col in combined_df.columns if col.startswith(base_col)]\n",
    "    if similar_cols:\n",
    "        mean_df[f'{base_col}_mean'] = combined_df[similar_cols].mean(axis=1, skipna= True)\n",
    "\n",
    "# Display the DataFrame with mean values\n",
    "print(mean_df.head())\n"
   ]
  },
  {
   "cell_type": "code",
   "execution_count": 10,
   "id": "bcb6df2d",
   "metadata": {
    "scrolled": false
   },
   "outputs": [
    {
     "name": "stdout",
     "output_type": "stream",
     "text": [
      "Memory usage by column (in bytes):\n",
      "Index                              132\n",
      "date                           1349040\n",
      "frontbed_temp_mean              147840\n",
      "kit_temp_mean                   147840\n",
      "dining_temp_mean                147840\n",
      "backroom_temp_mean              147840\n",
      "bath_hum_mean                   147840\n",
      "toilet_hum_mean                 147840\n",
      "smallbed_temp_mean              147840\n",
      "bed_hum_mean                    147840\n",
      "smallbed_hum_mean               147840\n",
      "hall_temp_mean                  147840\n",
      "frontbedabovedoor_hum_mean      147840\n",
      "Air temp (degC)_mean            147840\n",
      "backbed_temp_mean               147840\n",
      "rightbed_temp_mean              147840\n",
      "leftbed_hum_mean                147840\n",
      "util_hum_mean                   147840\n",
      "backroom_hum_mean               147840\n",
      "mediumbed_temp_mean             147840\n",
      "smallliv_temp_mean              147840\n",
      "rearbed_temp_mean               147840\n",
      "frontbed_hum_mean               147840\n",
      "box_hum_mean                    147840\n",
      "liv_temp_mean                   147840\n",
      "smallliv_hum_mean               147840\n",
      "Elec kWh_mean                   147840\n",
      "RH (%)_mean                     147840\n",
      "masterbed_hum_mean              147840\n",
      "dining_hum_mean                 147840\n",
      "hall_hum_mean                   147840\n",
      "bed_temp_mean                   147840\n",
      "rightbed_hum_mean               147840\n",
      "mediumbed_hum_mean              147840\n",
      "frontbedabovedoor_temp_mean     147840\n",
      "leftbed_temp_mean               147840\n",
      "rearbed_hum_mean                147840\n",
      "backbed_hum_mean                147840\n",
      "Atmos press (hPa)_mean          147840\n",
      "util_temp_mean                  147840\n",
      "toilet_temp_mean                147840\n",
      "masterbed_temp_mean             147840\n",
      "Gas m3_mean                     147840\n",
      "kit_hum_mean                    147840\n",
      "liv_hum_mean                    147840\n",
      "bath_temp_mean                  147840\n",
      "box_temp_mean                   147840\n",
      "dtype: int64\n",
      "Total memory usage: 7.63 MB\n"
     ]
    }
   ],
   "source": [
    "memory_usage = mean_df.memory_usage(deep=True)\n",
    "total_memory = memory_usage.sum()\n",
    "\n",
    "print(\"Memory usage by column (in bytes):\")\n",
    "print(memory_usage)\n",
    "print(f\"Total memory usage: {total_memory / (1024 ** 2):.2f} MB\")"
   ]
  },
  {
   "cell_type": "code",
   "execution_count": 11,
   "id": "ec4dd634",
   "metadata": {},
   "outputs": [],
   "source": [
    "import matplotlib.pyplot as plt\n"
   ]
  },
  {
   "cell_type": "code",
   "execution_count": 12,
   "id": "2109285b",
   "metadata": {
    "scrolled": true
   },
   "outputs": [
    {
     "data": {
      "image/png": "[encoded data removed]",
      "text/plain": [
       "<Figure size 640x480 with 1 Axes>"
      ]
     },
     "metadata": {},
     "output_type": "display_data"
    }
   ],
   "source": [
    "plt.plot(mean_df['Gas m3_mean'])\n",
    "plt.show()"
   ]
  },
  {
   "cell_type": "code",
   "execution_count": 13,
   "id": "56a5b337",
   "metadata": {},
   "outputs": [
    {
     "data": {
      "text/plain": [
       "count    17901.000000\n",
       "mean         0.053582\n",
       "std          0.249310\n",
       "min        -21.821333\n",
       "25%          0.015667\n",
       "50%          0.036333\n",
       "75%          0.078667\n",
       "max         21.902333\n",
       "Name: Gas m3_mean, dtype: float64"
      ]
     },
     "execution_count": 13,
     "metadata": {},
     "output_type": "execute_result"
    }
   ],
   "source": [
    "mean_df['Gas m3_mean'].describe()"
   ]
  },
  {
   "cell_type": "code",
   "execution_count": 14,
   "id": "494c4450",
   "metadata": {},
   "outputs": [],
   "source": [
    "mean_df.to_csv('all_HH_combined_mean.csv')\n"
   ]
  },
  {
   "cell_type": "code",
   "execution_count": null,
   "id": "6db290b3",
   "metadata": {},
   "outputs": [],
   "source": []
  },
  {
   "cell_type": "code",
   "execution_count": 15,
   "id": "4fc0cc8f",
   "metadata": {},
   "outputs": [
    {
     "name": "stdout",
     "output_type": "stream",
     "text": [
      "CSV files containing columns with 'box':\n",
      "data/HH15_all1.csv\n",
      "data/HH26_all1.csv\n",
      "data/HH30_all1.csv\n"
     ]
    }
   ],
   "source": [
    "import pandas as pd\n",
    "\n",
    "# List of file paths\n",
    "file_paths = [f'data/HH{i:02d}_all1.csv' for i in range(1, 31)]\n",
    "\n",
    "# List to store filenames with columns containing \"box\"\n",
    "files_with_box_columns = []\n",
    "\n",
    "# Iterate through each file and check for columns containing \"box\"\n",
    "for i, file_path in enumerate(file_paths, start=1):\n",
    "    df = pd.read_csv(file_path)\n",
    "    # Check if any column contains the substring \"box\"\n",
    "    if any('box' in col.lower() for col in df.columns):\n",
    "        files_with_box_columns.append(file_path)\n",
    "\n",
    "# Print the filenames that contain columns with \"box\"\n",
    "print(\"CSV files containing columns with 'box':\")\n",
    "for file in files_with_box_columns:\n",
    "    print(file)\n",
    "\n",
    "    "
   ]
  },
  {
   "cell_type": "code",
   "execution_count": null,
   "id": "05daf60c",
   "metadata": {},
   "outputs": [],
   "source": []
  }
 ],
 "metadata": {
  "kernelspec": {
   "display_name": "Python 3 (ipykernel)",
   "language": "python",
   "name": "python3"
  },
  "language_info": {
   "codemirror_mode": {
    "name": "ipython",
    "version": 3
   },
   "file_extension": ".py",
   "mimetype": "text/x-python",
   "name": "python",
   "nbconvert_exporter": "python",
   "pygments_lexer": "ipython3",
   "version": "3.11.4"
  }
 },
 "nbformat": 4,
 "nbformat_minor": 5
}
