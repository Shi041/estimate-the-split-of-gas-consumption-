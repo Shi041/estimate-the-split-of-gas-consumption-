{
 "cells": [
  {
   "cell_type": "code",
   "execution_count": 561,
   "id": "e854eb70",
   "metadata": {},
   "outputs": [],
   "source": [
    "import pandas as pd\n",
    "import matplotlib.pyplot as plt\n",
    "import numpy as np"
   ]
  },
  {
   "cell_type": "code",
   "execution_count": 562,
   "id": "91c33a67",
   "metadata": {
    "scrolled": false
   },
   "outputs": [],
   "source": [
    "hourly_stat = pd.read_csv('hourly_stat.csv').dropna()\n",
    "#hourly_stat"
   ]
  },
  {
   "cell_type": "code",
   "execution_count": 563,
   "id": "45c41803",
   "metadata": {},
   "outputs": [],
   "source": [
    "hourly_stat['Date'] = pd.to_datetime(hourly_stat['date'])\n"
   ]
  },
  {
   "cell_type": "code",
   "execution_count": 564,
   "id": "2c1ab476",
   "metadata": {},
   "outputs": [],
   "source": [
    "hourly_stat.set_index('Date', inplace=True)"
   ]
  },
  {
   "cell_type": "code",
   "execution_count": null,
   "id": "b587f41a",
   "metadata": {},
   "outputs": [],
   "source": []
  },
  {
   "cell_type": "code",
   "execution_count": 565,
   "id": "52ce4e41",
   "metadata": {},
   "outputs": [],
   "source": [
    "hourly_stat[hourly_stat['Gas_sum'] < 0] = 0"
   ]
  },
  {
   "cell_type": "code",
   "execution_count": 566,
   "id": "395068fe",
   "metadata": {
    "scrolled": true
   },
   "outputs": [
    {
     "data": {
      "text/html": [
       "<div>\n",
       "<style scoped>\n",
       "    .dataframe tbody tr th:only-of-type {\n",
       "        vertical-align: middle;\n",
       "    }\n",
       "\n",
       "    .dataframe tbody tr th {\n",
       "        vertical-align: top;\n",
       "    }\n",
       "\n",
       "    .dataframe thead th {\n",
       "        text-align: right;\n",
       "    }\n",
       "</style>\n",
       "<table border=\"1\" class=\"dataframe\">\n",
       "  <thead>\n",
       "    <tr style=\"text-align: right;\">\n",
       "      <th></th>\n",
       "      <th>date</th>\n",
       "      <th>Gas_sum</th>\n",
       "      <th>Gas_max</th>\n",
       "      <th>Gas_min</th>\n",
       "      <th>Gas_mean</th>\n",
       "      <th>ext_temp_max</th>\n",
       "      <th>ext_temp_min</th>\n",
       "      <th>ext_temp_mean</th>\n",
       "      <th>ext_hum_max</th>\n",
       "      <th>ext_hum_min</th>\n",
       "      <th>...</th>\n",
       "      <th>SH_temp_mean</th>\n",
       "      <th>SH_hum_max</th>\n",
       "      <th>SH_hum_min</th>\n",
       "      <th>SH_hum_mean</th>\n",
       "      <th>DWH_temp_max</th>\n",
       "      <th>DWH_temp_min</th>\n",
       "      <th>DWH_temp_mean</th>\n",
       "      <th>DWH_hum_max</th>\n",
       "      <th>DWH_hum_min</th>\n",
       "      <th>DWH_hum_mean</th>\n",
       "    </tr>\n",
       "    <tr>\n",
       "      <th>Date</th>\n",
       "      <th></th>\n",
       "      <th></th>\n",
       "      <th></th>\n",
       "      <th></th>\n",
       "      <th></th>\n",
       "      <th></th>\n",
       "      <th></th>\n",
       "      <th></th>\n",
       "      <th></th>\n",
       "      <th></th>\n",
       "      <th></th>\n",
       "      <th></th>\n",
       "      <th></th>\n",
       "      <th></th>\n",
       "      <th></th>\n",
       "      <th></th>\n",
       "      <th></th>\n",
       "      <th></th>\n",
       "      <th></th>\n",
       "      <th></th>\n",
       "      <th></th>\n",
       "    </tr>\n",
       "  </thead>\n",
       "  <tbody>\n",
       "    <tr>\n",
       "      <th>2020-03-08 00:00:00</th>\n",
       "      <td>2020-03-08 00:00:00</td>\n",
       "      <td>0.080621</td>\n",
       "      <td>0.048621</td>\n",
       "      <td>0.032000</td>\n",
       "      <td>0.040310</td>\n",
       "      <td>10.100000</td>\n",
       "      <td>10.100000</td>\n",
       "      <td>10.100000</td>\n",
       "      <td>83.000000</td>\n",
       "      <td>82.666667</td>\n",
       "      <td>...</td>\n",
       "      <td>20.907591</td>\n",
       "      <td>53.957879</td>\n",
       "      <td>53.204083</td>\n",
       "      <td>53.580981</td>\n",
       "      <td>21.527065</td>\n",
       "      <td>21.357708</td>\n",
       "      <td>21.442387</td>\n",
       "      <td>49.417708</td>\n",
       "      <td>48.271957</td>\n",
       "      <td>48.844832</td>\n",
       "    </tr>\n",
       "    <tr>\n",
       "      <th>2020-03-08 01:00:00</th>\n",
       "      <td>2020-03-08 01:00:00</td>\n",
       "      <td>0.057000</td>\n",
       "      <td>0.032333</td>\n",
       "      <td>0.024667</td>\n",
       "      <td>0.028500</td>\n",
       "      <td>10.166667</td>\n",
       "      <td>10.033333</td>\n",
       "      <td>10.100000</td>\n",
       "      <td>85.000000</td>\n",
       "      <td>84.333333</td>\n",
       "      <td>...</td>\n",
       "      <td>20.494126</td>\n",
       "      <td>54.679370</td>\n",
       "      <td>54.429973</td>\n",
       "      <td>54.554672</td>\n",
       "      <td>21.183300</td>\n",
       "      <td>21.037000</td>\n",
       "      <td>21.110150</td>\n",
       "      <td>49.971400</td>\n",
       "      <td>49.740800</td>\n",
       "      <td>49.856100</td>\n",
       "    </tr>\n",
       "    <tr>\n",
       "      <th>2020-03-08 02:00:00</th>\n",
       "      <td>2020-03-08 02:00:00</td>\n",
       "      <td>0.057333</td>\n",
       "      <td>0.035333</td>\n",
       "      <td>0.022000</td>\n",
       "      <td>0.028667</td>\n",
       "      <td>10.200000</td>\n",
       "      <td>10.000000</td>\n",
       "      <td>10.100000</td>\n",
       "      <td>85.666667</td>\n",
       "      <td>84.000000</td>\n",
       "      <td>...</td>\n",
       "      <td>20.487254</td>\n",
       "      <td>55.010402</td>\n",
       "      <td>54.982286</td>\n",
       "      <td>54.996344</td>\n",
       "      <td>21.039000</td>\n",
       "      <td>20.913600</td>\n",
       "      <td>20.976300</td>\n",
       "      <td>51.145600</td>\n",
       "      <td>50.464000</td>\n",
       "      <td>50.804800</td>\n",
       "    </tr>\n",
       "    <tr>\n",
       "      <th>2020-03-08 03:00:00</th>\n",
       "      <td>2020-03-08 03:00:00</td>\n",
       "      <td>0.072000</td>\n",
       "      <td>0.043000</td>\n",
       "      <td>0.029000</td>\n",
       "      <td>0.036000</td>\n",
       "      <td>10.100000</td>\n",
       "      <td>9.966667</td>\n",
       "      <td>10.033333</td>\n",
       "      <td>81.666667</td>\n",
       "      <td>79.333333</td>\n",
       "      <td>...</td>\n",
       "      <td>20.365186</td>\n",
       "      <td>56.348934</td>\n",
       "      <td>55.838001</td>\n",
       "      <td>56.093468</td>\n",
       "      <td>20.755000</td>\n",
       "      <td>20.529783</td>\n",
       "      <td>20.642391</td>\n",
       "      <td>50.691250</td>\n",
       "      <td>50.689130</td>\n",
       "      <td>50.690190</td>\n",
       "    </tr>\n",
       "    <tr>\n",
       "      <th>2020-03-08 04:00:00</th>\n",
       "      <td>2020-03-08 04:00:00</td>\n",
       "      <td>0.051333</td>\n",
       "      <td>0.027667</td>\n",
       "      <td>0.023667</td>\n",
       "      <td>0.025667</td>\n",
       "      <td>9.733333</td>\n",
       "      <td>9.466667</td>\n",
       "      <td>9.600000</td>\n",
       "      <td>75.000000</td>\n",
       "      <td>73.000000</td>\n",
       "      <td>...</td>\n",
       "      <td>20.276276</td>\n",
       "      <td>55.544823</td>\n",
       "      <td>54.731292</td>\n",
       "      <td>55.138057</td>\n",
       "      <td>20.629130</td>\n",
       "      <td>20.623750</td>\n",
       "      <td>20.626440</td>\n",
       "      <td>50.171875</td>\n",
       "      <td>50.127174</td>\n",
       "      <td>50.149524</td>\n",
       "    </tr>\n",
       "    <tr>\n",
       "      <th>...</th>\n",
       "      <td>...</td>\n",
       "      <td>...</td>\n",
       "      <td>...</td>\n",
       "      <td>...</td>\n",
       "      <td>...</td>\n",
       "      <td>...</td>\n",
       "      <td>...</td>\n",
       "      <td>...</td>\n",
       "      <td>...</td>\n",
       "      <td>...</td>\n",
       "      <td>...</td>\n",
       "      <td>...</td>\n",
       "      <td>...</td>\n",
       "      <td>...</td>\n",
       "      <td>...</td>\n",
       "      <td>...</td>\n",
       "      <td>...</td>\n",
       "      <td>...</td>\n",
       "      <td>...</td>\n",
       "      <td>...</td>\n",
       "      <td>...</td>\n",
       "    </tr>\n",
       "    <tr>\n",
       "      <th>2021-03-02 04:00:00</th>\n",
       "      <td>2021-03-02 04:00:00</td>\n",
       "      <td>0.043333</td>\n",
       "      <td>0.025000</td>\n",
       "      <td>0.018333</td>\n",
       "      <td>0.021667</td>\n",
       "      <td>3.200000</td>\n",
       "      <td>2.900000</td>\n",
       "      <td>3.050000</td>\n",
       "      <td>79.666667</td>\n",
       "      <td>79.333333</td>\n",
       "      <td>...</td>\n",
       "      <td>19.664339</td>\n",
       "      <td>51.411650</td>\n",
       "      <td>51.376945</td>\n",
       "      <td>51.394298</td>\n",
       "      <td>20.586957</td>\n",
       "      <td>20.469545</td>\n",
       "      <td>20.528251</td>\n",
       "      <td>48.646522</td>\n",
       "      <td>48.528409</td>\n",
       "      <td>48.587465</td>\n",
       "    </tr>\n",
       "    <tr>\n",
       "      <th>2021-03-02 05:00:00</th>\n",
       "      <td>2021-03-02 05:00:00</td>\n",
       "      <td>0.038667</td>\n",
       "      <td>0.020000</td>\n",
       "      <td>0.018667</td>\n",
       "      <td>0.019333</td>\n",
       "      <td>2.633333</td>\n",
       "      <td>2.633333</td>\n",
       "      <td>2.633333</td>\n",
       "      <td>79.000000</td>\n",
       "      <td>79.000000</td>\n",
       "      <td>...</td>\n",
       "      <td>19.348004</td>\n",
       "      <td>51.565290</td>\n",
       "      <td>51.544731</td>\n",
       "      <td>51.555011</td>\n",
       "      <td>20.255217</td>\n",
       "      <td>20.084783</td>\n",
       "      <td>20.170000</td>\n",
       "      <td>48.218478</td>\n",
       "      <td>48.174130</td>\n",
       "      <td>48.196304</td>\n",
       "    </tr>\n",
       "    <tr>\n",
       "      <th>2021-03-02 06:00:00</th>\n",
       "      <td>2021-03-02 06:00:00</td>\n",
       "      <td>0.149000</td>\n",
       "      <td>0.094667</td>\n",
       "      <td>0.054333</td>\n",
       "      <td>0.074500</td>\n",
       "      <td>2.600000</td>\n",
       "      <td>2.600000</td>\n",
       "      <td>2.600000</td>\n",
       "      <td>79.333333</td>\n",
       "      <td>79.333333</td>\n",
       "      <td>...</td>\n",
       "      <td>19.302289</td>\n",
       "      <td>51.599304</td>\n",
       "      <td>51.250863</td>\n",
       "      <td>51.425083</td>\n",
       "      <td>20.041957</td>\n",
       "      <td>18.594545</td>\n",
       "      <td>19.318251</td>\n",
       "      <td>54.542273</td>\n",
       "      <td>48.485652</td>\n",
       "      <td>51.513962</td>\n",
       "    </tr>\n",
       "    <tr>\n",
       "      <th>2021-03-02 07:00:00</th>\n",
       "      <td>2021-03-02 07:00:00</td>\n",
       "      <td>0.228667</td>\n",
       "      <td>0.120333</td>\n",
       "      <td>0.108333</td>\n",
       "      <td>0.114333</td>\n",
       "      <td>2.633333</td>\n",
       "      <td>2.600000</td>\n",
       "      <td>2.616667</td>\n",
       "      <td>79.000000</td>\n",
       "      <td>79.000000</td>\n",
       "      <td>...</td>\n",
       "      <td>19.750493</td>\n",
       "      <td>50.872917</td>\n",
       "      <td>50.183950</td>\n",
       "      <td>50.528433</td>\n",
       "      <td>20.751630</td>\n",
       "      <td>20.539783</td>\n",
       "      <td>20.645707</td>\n",
       "      <td>47.233043</td>\n",
       "      <td>47.171522</td>\n",
       "      <td>47.202283</td>\n",
       "    </tr>\n",
       "    <tr>\n",
       "      <th>2021-03-02 08:00:00</th>\n",
       "      <td>2021-03-02 08:00:00</td>\n",
       "      <td>0.228000</td>\n",
       "      <td>0.117667</td>\n",
       "      <td>0.110333</td>\n",
       "      <td>0.114000</td>\n",
       "      <td>2.633333</td>\n",
       "      <td>2.633333</td>\n",
       "      <td>2.633333</td>\n",
       "      <td>78.666667</td>\n",
       "      <td>78.666667</td>\n",
       "      <td>...</td>\n",
       "      <td>19.924667</td>\n",
       "      <td>49.860890</td>\n",
       "      <td>49.092004</td>\n",
       "      <td>49.476447</td>\n",
       "      <td>20.734545</td>\n",
       "      <td>20.646136</td>\n",
       "      <td>20.690341</td>\n",
       "      <td>46.696136</td>\n",
       "      <td>46.570227</td>\n",
       "      <td>46.633182</td>\n",
       "    </tr>\n",
       "  </tbody>\n",
       "</table>\n",
       "<p>8312 rows × 23 columns</p>\n",
       "</div>"
      ],
      "text/plain": [
       "                                    date   Gas_sum   Gas_max   Gas_min  \\\n",
       "Date                                                                     \n",
       "2020-03-08 00:00:00  2020-03-08 00:00:00  0.080621  0.048621  0.032000   \n",
       "2020-03-08 01:00:00  2020-03-08 01:00:00  0.057000  0.032333  0.024667   \n",
       "2020-03-08 02:00:00  2020-03-08 02:00:00  0.057333  0.035333  0.022000   \n",
       "2020-03-08 03:00:00  2020-03-08 03:00:00  0.072000  0.043000  0.029000   \n",
       "2020-03-08 04:00:00  2020-03-08 04:00:00  0.051333  0.027667  0.023667   \n",
       "...                                  ...       ...       ...       ...   \n",
       "2021-03-02 04:00:00  2021-03-02 04:00:00  0.043333  0.025000  0.018333   \n",
       "2021-03-02 05:00:00  2021-03-02 05:00:00  0.038667  0.020000  0.018667   \n",
       "2021-03-02 06:00:00  2021-03-02 06:00:00  0.149000  0.094667  0.054333   \n",
       "2021-03-02 07:00:00  2021-03-02 07:00:00  0.228667  0.120333  0.108333   \n",
       "2021-03-02 08:00:00  2021-03-02 08:00:00  0.228000  0.117667  0.110333   \n",
       "\n",
       "                     Gas_mean  ext_temp_max  ext_temp_min  ext_temp_mean  \\\n",
       "Date                                                                       \n",
       "2020-03-08 00:00:00  0.040310     10.100000     10.100000      10.100000   \n",
       "2020-03-08 01:00:00  0.028500     10.166667     10.033333      10.100000   \n",
       "2020-03-08 02:00:00  0.028667     10.200000     10.000000      10.100000   \n",
       "2020-03-08 03:00:00  0.036000     10.100000      9.966667      10.033333   \n",
       "2020-03-08 04:00:00  0.025667      9.733333      9.466667       9.600000   \n",
       "...                       ...           ...           ...            ...   \n",
       "2021-03-02 04:00:00  0.021667      3.200000      2.900000       3.050000   \n",
       "2021-03-02 05:00:00  0.019333      2.633333      2.633333       2.633333   \n",
       "2021-03-02 06:00:00  0.074500      2.600000      2.600000       2.600000   \n",
       "2021-03-02 07:00:00  0.114333      2.633333      2.600000       2.616667   \n",
       "2021-03-02 08:00:00  0.114000      2.633333      2.633333       2.633333   \n",
       "\n",
       "                     ext_hum_max  ext_hum_min  ...  SH_temp_mean  SH_hum_max  \\\n",
       "Date                                           ...                             \n",
       "2020-03-08 00:00:00    83.000000    82.666667  ...     20.907591   53.957879   \n",
       "2020-03-08 01:00:00    85.000000    84.333333  ...     20.494126   54.679370   \n",
       "2020-03-08 02:00:00    85.666667    84.000000  ...     20.487254   55.010402   \n",
       "2020-03-08 03:00:00    81.666667    79.333333  ...     20.365186   56.348934   \n",
       "2020-03-08 04:00:00    75.000000    73.000000  ...     20.276276   55.544823   \n",
       "...                          ...          ...  ...           ...         ...   \n",
       "2021-03-02 04:00:00    79.666667    79.333333  ...     19.664339   51.411650   \n",
       "2021-03-02 05:00:00    79.000000    79.000000  ...     19.348004   51.565290   \n",
       "2021-03-02 06:00:00    79.333333    79.333333  ...     19.302289   51.599304   \n",
       "2021-03-02 07:00:00    79.000000    79.000000  ...     19.750493   50.872917   \n",
       "2021-03-02 08:00:00    78.666667    78.666667  ...     19.924667   49.860890   \n",
       "\n",
       "                     SH_hum_min  SH_hum_mean  DWH_temp_max  DWH_temp_min  \\\n",
       "Date                                                                       \n",
       "2020-03-08 00:00:00   53.204083    53.580981     21.527065     21.357708   \n",
       "2020-03-08 01:00:00   54.429973    54.554672     21.183300     21.037000   \n",
       "2020-03-08 02:00:00   54.982286    54.996344     21.039000     20.913600   \n",
       "2020-03-08 03:00:00   55.838001    56.093468     20.755000     20.529783   \n",
       "2020-03-08 04:00:00   54.731292    55.138057     20.629130     20.623750   \n",
       "...                         ...          ...           ...           ...   \n",
       "2021-03-02 04:00:00   51.376945    51.394298     20.586957     20.469545   \n",
       "2021-03-02 05:00:00   51.544731    51.555011     20.255217     20.084783   \n",
       "2021-03-02 06:00:00   51.250863    51.425083     20.041957     18.594545   \n",
       "2021-03-02 07:00:00   50.183950    50.528433     20.751630     20.539783   \n",
       "2021-03-02 08:00:00   49.092004    49.476447     20.734545     20.646136   \n",
       "\n",
       "                     DWH_temp_mean  DWH_hum_max  DWH_hum_min  DWH_hum_mean  \n",
       "Date                                                                        \n",
       "2020-03-08 00:00:00      21.442387    49.417708    48.271957     48.844832  \n",
       "2020-03-08 01:00:00      21.110150    49.971400    49.740800     49.856100  \n",
       "2020-03-08 02:00:00      20.976300    51.145600    50.464000     50.804800  \n",
       "2020-03-08 03:00:00      20.642391    50.691250    50.689130     50.690190  \n",
       "2020-03-08 04:00:00      20.626440    50.171875    50.127174     50.149524  \n",
       "...                            ...          ...          ...           ...  \n",
       "2021-03-02 04:00:00      20.528251    48.646522    48.528409     48.587465  \n",
       "2021-03-02 05:00:00      20.170000    48.218478    48.174130     48.196304  \n",
       "2021-03-02 06:00:00      19.318251    54.542273    48.485652     51.513962  \n",
       "2021-03-02 07:00:00      20.645707    47.233043    47.171522     47.202283  \n",
       "2021-03-02 08:00:00      20.690341    46.696136    46.570227     46.633182  \n",
       "\n",
       "[8312 rows x 23 columns]"
      ]
     },
     "execution_count": 566,
     "metadata": {},
     "output_type": "execute_result"
    }
   ],
   "source": [
    "hourly_stat"
   ]
  },
  {
   "cell_type": "code",
   "execution_count": 567,
   "id": "77edaee9",
   "metadata": {},
   "outputs": [],
   "source": [
    "hourly_stat=hourly_stat.dropna()\n"
   ]
  },
  {
   "cell_type": "code",
   "execution_count": 568,
   "id": "dbff3b41",
   "metadata": {},
   "outputs": [
    {
     "data": {
      "text/plain": [
       "count    8312.000000\n",
       "mean        0.050271\n",
       "std         0.044725\n",
       "min         0.000667\n",
       "25%         0.015500\n",
       "50%         0.034661\n",
       "75%         0.074833\n",
       "max         0.240500\n",
       "Name: Gas_mean, dtype: float64"
      ]
     },
     "execution_count": 568,
     "metadata": {},
     "output_type": "execute_result"
    }
   ],
   "source": [
    "hourly_stat[ 'Gas_mean'].describe()"
   ]
  },
  {
   "cell_type": "code",
   "execution_count": null,
   "id": "97e508aa",
   "metadata": {},
   "outputs": [],
   "source": []
  },
  {
   "cell_type": "code",
   "execution_count": 569,
   "id": "f0e57521",
   "metadata": {},
   "outputs": [
    {
     "data": {
      "image/png": "[encoded data removed]",
      "text/plain": [
       "<Figure size 640x480 with 1 Axes>"
      ]
     },
     "metadata": {},
     "output_type": "display_data"
    }
   ],
   "source": [
    "plt.plot(hourly_stat[ 'Gas_sum'], label='Gas_sum')\n",
    "\n",
    "plt.plot(hourly_stat[ 'Gas_mean'], label='Gas_mean')\n",
    "\n",
    "plt.legend()\n",
    "\n",
    "plt.show()"
   ]
  },
  {
   "cell_type": "code",
   "execution_count": null,
   "id": "367504b6",
   "metadata": {},
   "outputs": [],
   "source": []
  },
  {
   "cell_type": "markdown",
   "id": "70b1b218",
   "metadata": {},
   "source": [
    "# heating period "
   ]
  },
  {
   "cell_type": "code",
   "execution_count": 570,
   "id": "0871f920",
   "metadata": {},
   "outputs": [],
   "source": [
    "\n",
    "# Define the function to classify periods\n",
    "def classify_heating_period(row):\n",
    "    if row['ext_temp_mean'] > 15:\n",
    "        return 'DWH'\n",
    "    else:\n",
    "        return 'SH+DWH'\n",
    "\n",
    "\n",
    "\n",
    "# Apply the function to create a new column\n",
    "hourly_stat['Heating_Period'] = hourly_stat.apply(classify_heating_period, axis=1)"
   ]
  },
  {
   "cell_type": "code",
   "execution_count": 571,
   "id": "a93af6f2",
   "metadata": {
    "scrolled": true
   },
   "outputs": [
    {
     "data": {
      "image/png": "[encoded data removed]",
      "text/plain": [
       "<Figure size 640x480 with 1 Axes>"
      ]
     },
     "metadata": {},
     "output_type": "display_data"
    }
   ],
   "source": [
    "plt.plot(hourly_stat['Heating_Period'])\n",
    "plt.show()"
   ]
  },
  {
   "cell_type": "markdown",
   "id": "30ffee11",
   "metadata": {},
   "source": [
    "# find SH temp and hum difference between max and min \n"
   ]
  },
  {
   "cell_type": "code",
   "execution_count": 572,
   "id": "2fdcf88d",
   "metadata": {},
   "outputs": [],
   "source": [
    "hourly_stat['SH_temp_diff'] = hourly_stat['SH_temp_max'] - hourly_stat['SH_temp_min']\n",
    "hourly_stat['SH_hum_diff'] = hourly_stat['SH_hum_max'] - hourly_stat['SH_hum_min']\n"
   ]
  },
  {
   "cell_type": "markdown",
   "id": "f5fa94a3",
   "metadata": {},
   "source": [
    "# find DWH temp and hum difference between max and min \n"
   ]
  },
  {
   "cell_type": "code",
   "execution_count": null,
   "id": "23ffa3e3",
   "metadata": {},
   "outputs": [],
   "source": []
  },
  {
   "cell_type": "code",
   "execution_count": 573,
   "id": "37e4905e",
   "metadata": {},
   "outputs": [],
   "source": [
    "hourly_stat['DWH_temp_diff'] = hourly_stat['DWH_temp_max'] - hourly_stat['DWH_temp_min']\n",
    "hourly_stat['DWH_hum_diff'] = hourly_stat['DWH_hum_max'] - hourly_stat['DWH_hum_min']\n",
    "\n",
    "hourly_stat['Gas_diff'] = hourly_stat['Gas_max'] - hourly_stat['Gas_min']\n",
    "\n"
   ]
  },
  {
   "cell_type": "code",
   "execution_count": 574,
   "id": "a0fa36e6",
   "metadata": {},
   "outputs": [],
   "source": [
    "hourly_stat['DWH_gas_con_per_temp'] = (hourly_stat['Gas_mean']/hourly_stat['DWH_temp_mean']).replace([np.inf, -np.inf], 0)"
   ]
  },
  {
   "cell_type": "code",
   "execution_count": 575,
   "id": "1b8a6128",
   "metadata": {},
   "outputs": [],
   "source": [
    "hourly_stat['DWH_gas_con_per_hum'] = (hourly_stat['Gas_mean']/hourly_stat['DWH_hum_mean']).replace([np.inf, -np.inf], 0)"
   ]
  },
  {
   "cell_type": "code",
   "execution_count": 576,
   "id": "07ca1ef3",
   "metadata": {
    "scrolled": false
   },
   "outputs": [],
   "source": [
    "#hourly_stat"
   ]
  },
  {
   "cell_type": "code",
   "execution_count": 577,
   "id": "79c28545",
   "metadata": {},
   "outputs": [],
   "source": [
    "#hourly_stat[hourly_stat['DWH_gas_con_per_hum']==hourly_stat['DWH_gas_con_per_hum'].max()]"
   ]
  },
  {
   "cell_type": "code",
   "execution_count": null,
   "id": "4e7a0b96",
   "metadata": {},
   "outputs": [],
   "source": []
  },
  {
   "cell_type": "markdown",
   "id": "8a400526",
   "metadata": {},
   "source": [
    "# find mean gas consumption for water heating period"
   ]
  },
  {
   "cell_type": "code",
   "execution_count": 578,
   "id": "5f5cebdf",
   "metadata": {},
   "outputs": [],
   "source": [
    "water_heating_df = hourly_stat[hourly_stat['Heating_Period'] == 'DWH']\n"
   ]
  },
  {
   "cell_type": "code",
   "execution_count": 579,
   "id": "ef9ad2a9",
   "metadata": {},
   "outputs": [],
   "source": [
    "mean_DWH_gas_con_tem = (water_heating_df['DWH_gas_con_per_temp']).mean()\n",
    "\n",
    "mean_DWH_gas_con_hum = water_heating_df['DWH_gas_con_per_hum'].mean()\n"
   ]
  },
  {
   "cell_type": "code",
   "execution_count": 580,
   "id": "21c76531",
   "metadata": {},
   "outputs": [],
   "source": [
    "#water_heating_df[water_heating_df['DWH_gas_con_per_temp']==water_heating_df['DWH_gas_con_per_temp'].max()]"
   ]
  },
  {
   "cell_type": "code",
   "execution_count": 581,
   "id": "d6038b40",
   "metadata": {},
   "outputs": [
    {
     "data": {
      "text/plain": [
       "0.0008133717628332441"
      ]
     },
     "execution_count": 581,
     "metadata": {},
     "output_type": "execute_result"
    }
   ],
   "source": [
    "mean_DWH_gas_con_tem"
   ]
  },
  {
   "cell_type": "code",
   "execution_count": 582,
   "id": "ce21feba",
   "metadata": {
    "scrolled": true
   },
   "outputs": [
    {
     "data": {
      "text/plain": [
       "0.0003107211603770263"
      ]
     },
     "execution_count": 582,
     "metadata": {},
     "output_type": "execute_result"
    }
   ],
   "source": [
    "mean_DWH_gas_con_hum"
   ]
  },
  {
   "cell_type": "code",
   "execution_count": 583,
   "id": "39842e8d",
   "metadata": {},
   "outputs": [],
   "source": [
    "#hourly_stat"
   ]
  },
  {
   "cell_type": "code",
   "execution_count": 584,
   "id": "961a5a1d",
   "metadata": {},
   "outputs": [
    {
     "data": {
      "text/plain": [
       "count    2041.000000\n",
       "mean        0.000311\n",
       "std         0.000251\n",
       "min         0.000010\n",
       "25%         0.000135\n",
       "50%         0.000258\n",
       "75%         0.000420\n",
       "max         0.002022\n",
       "Name: DWH_gas_con_per_hum, dtype: float64"
      ]
     },
     "execution_count": 584,
     "metadata": {},
     "output_type": "execute_result"
    }
   ],
   "source": [
    "water_heating_df['DWH_gas_con_per_temp'].describe()\n",
    "water_heating_df['DWH_gas_con_per_hum'].describe()"
   ]
  },
  {
   "cell_type": "code",
   "execution_count": null,
   "id": "474937e2",
   "metadata": {},
   "outputs": [],
   "source": []
  },
  {
   "cell_type": "code",
   "execution_count": null,
   "id": "fe681819",
   "metadata": {},
   "outputs": [],
   "source": []
  },
  {
   "cell_type": "code",
   "execution_count": 585,
   "id": "afe49d6a",
   "metadata": {},
   "outputs": [],
   "source": [
    "hourly_stat['est_gas_con_DWH_temp']= hourly_stat['DWH_temp_mean'] * mean_DWH_gas_con_tem\n",
    "hourly_stat['est_gas_con_DWH_hum']= hourly_stat['DWH_hum_mean'] * mean_DWH_gas_con_hum\n",
    "hourly_stat['est_gas_con_DWH']= (hourly_stat['est_gas_con_DWH_hum']+hourly_stat['est_gas_con_DWH_temp'])/2\n"
   ]
  },
  {
   "cell_type": "code",
   "execution_count": 586,
   "id": "af96b59b",
   "metadata": {},
   "outputs": [
    {
     "data": {
      "image/png": "[encoded data removed]",
      "text/plain": [
       "<Figure size 640x480 with 1 Axes>"
      ]
     },
     "metadata": {},
     "output_type": "display_data"
    }
   ],
   "source": [
    "#plt.plot(hourly_stat[ 'Gas_sum'], label='Gas_sum')\n",
    "plt.plot(hourly_stat[ 'Gas_mean'], label='Gas_mean')\n",
    "plt.plot(hourly_stat[ 'est_gas_con_DWH'], label='est_gas_con_DWH')\n",
    "plt.plot(hourly_stat[ 'est_gas_con_DWH_hum'], label='est_gas_con_DWH_hum')\n",
    "\n",
    "plt.legend()\n",
    "\n",
    "plt.show()"
   ]
  },
  {
   "cell_type": "code",
   "execution_count": null,
   "id": "5e14504b",
   "metadata": {},
   "outputs": [],
   "source": []
  },
  {
   "cell_type": "code",
   "execution_count": null,
   "id": "6c65a73d",
   "metadata": {},
   "outputs": [],
   "source": []
  },
  {
   "cell_type": "markdown",
   "id": "c06ba07c",
   "metadata": {},
   "source": [
    "# METHOD 1 USING GAS PER TEMP AND HUM  ESTIMATE SH GAS "
   ]
  },
  {
   "cell_type": "code",
   "execution_count": 587,
   "id": "9c0b99cd",
   "metadata": {},
   "outputs": [],
   "source": [
    "hourly_stat['SH_temp_diff'] = hourly_stat['SH_temp_max'] - hourly_stat['SH_temp_min']\n",
    "hourly_stat['SH_hum_diff'] = hourly_stat['SH_hum_max'] - hourly_stat['SH_hum_min']\n"
   ]
  },
  {
   "cell_type": "code",
   "execution_count": 588,
   "id": "b3594bc1",
   "metadata": {},
   "outputs": [],
   "source": [
    "hourly_stat['est_gas_con_SH_temp']= hourly_stat['SH_temp_mean'] * mean_DWH_gas_con_tem\n",
    "hourly_stat['est_gas_con_SH_hum']= hourly_stat['SH_hum_mean'] * mean_DWH_gas_con_hum\n",
    "hourly_stat['est_gas_con_SH1']= (hourly_stat['est_gas_con_SH_hum']+hourly_stat['est_gas_con_SH_temp'])/2\n"
   ]
  },
  {
   "cell_type": "code",
   "execution_count": 589,
   "id": "1dce07bc",
   "metadata": {
    "scrolled": false
   },
   "outputs": [
    {
     "data": {
      "image/png": "[encoded data removed]",
      "text/plain": [
       "<Figure size 640x480 with 1 Axes>"
      ]
     },
     "metadata": {},
     "output_type": "display_data"
    }
   ],
   "source": [
    "#plt.plot(hourly_stat[ 'Gas_sum'], label='Gas_sum')\n",
    "plt.plot(hourly_stat[ 'Gas_mean'], label='Gas_mean')\n",
    "plt.plot(hourly_stat[ 'est_gas_con_DWH'], label='est_gas_con_DWH')\n",
    "plt.plot(hourly_stat[ 'est_gas_con_SH1'], label='est_gas_con_SH1')\n",
    "\n",
    "plt.legend()\n",
    "\n",
    "plt.show()"
   ]
  },
  {
   "cell_type": "code",
   "execution_count": 590,
   "id": "8dc86d2b",
   "metadata": {},
   "outputs": [],
   "source": [
    "hourly_stat['estimated_gas_con1']= hourly_stat[ 'est_gas_con_SH1']+hourly_stat[ 'est_gas_con_DWH']"
   ]
  },
  {
   "cell_type": "code",
   "execution_count": 591,
   "id": "f55690eb",
   "metadata": {
    "scrolled": true
   },
   "outputs": [
    {
     "data": {
      "text/plain": [
       "Date\n",
       "2020-03-08 00:00:00    0.033136\n",
       "2020-03-08 01:00:00    0.033141\n",
       "2020-03-08 02:00:00    0.033300\n",
       "2020-03-08 03:00:00    0.033267\n",
       "2020-03-08 04:00:00    0.032992\n",
       "                         ...   \n",
       "2021-03-02 04:00:00    0.031879\n",
       "2021-03-02 05:00:00    0.031569\n",
       "2021-03-02 06:00:00    0.031699\n",
       "2021-03-02 07:00:00    0.031612\n",
       "2021-03-02 08:00:00    0.031449\n",
       "Name: estimated_gas_con1, Length: 8312, dtype: float64"
      ]
     },
     "execution_count": 591,
     "metadata": {},
     "output_type": "execute_result"
    }
   ],
   "source": [
    "hourly_stat['estimated_gas_con1']"
   ]
  },
  {
   "cell_type": "code",
   "execution_count": 592,
   "id": "750789b5",
   "metadata": {},
   "outputs": [
    {
     "data": {
      "image/png": "[encoded data removed]",
      "text/plain": [
       "<Figure size 640x480 with 1 Axes>"
      ]
     },
     "metadata": {},
     "output_type": "display_data"
    }
   ],
   "source": [
    "#plt.plot(hourly_stat[ 'Gas_sum'], label='Gas_sum')\n",
    "plt.plot(hourly_stat[ 'Gas_mean'], label='Gas_mean')\n",
    "\n",
    "plt.plot(hourly_stat[ 'estimated_gas_con1'], label='estimated_gas_con1')\n",
    "#plt.plot(hourly_stat[ 'est_gas_con_SH1'], label='est_gas_con_SH1')\n",
    "\n",
    "plt.legend()\n",
    "\n",
    "plt.show()"
   ]
  },
  {
   "cell_type": "code",
   "execution_count": null,
   "id": "0878ef50",
   "metadata": {},
   "outputs": [],
   "source": []
  },
  {
   "cell_type": "code",
   "execution_count": null,
   "id": "e9bea1dc",
   "metadata": {},
   "outputs": [],
   "source": []
  },
  {
   "cell_type": "code",
   "execution_count": null,
   "id": "8b40dff0",
   "metadata": {},
   "outputs": [],
   "source": []
  },
  {
   "cell_type": "code",
   "execution_count": null,
   "id": "f27a4941",
   "metadata": {},
   "outputs": [],
   "source": []
  },
  {
   "cell_type": "code",
   "execution_count": null,
   "id": "d10c9198",
   "metadata": {},
   "outputs": [],
   "source": []
  },
  {
   "cell_type": "code",
   "execution_count": 593,
   "id": "bf75039a",
   "metadata": {},
   "outputs": [],
   "source": [
    "#hourly_stat"
   ]
  },
  {
   "cell_type": "code",
   "execution_count": 594,
   "id": "9b7543bf",
   "metadata": {},
   "outputs": [],
   "source": [
    "from sklearn.metrics import mean_absolute_error, mean_squared_error, r2_score\n"
   ]
  },
  {
   "cell_type": "code",
   "execution_count": 595,
   "id": "537f7cb2",
   "metadata": {},
   "outputs": [
    {
     "name": "stdout",
     "output_type": "stream",
     "text": [
      "Mean Absolute Error (MAE): 0.07632293263671332\n"
     ]
    }
   ],
   "source": [
    "\n",
    "# Calculate MAE\n",
    "mae = mean_absolute_error(hourly_stat[ 'Gas_sum'], hourly_stat['estimated_gas_con1'])\n",
    "print(f'Mean Absolute Error (MAE): {mae}')\n",
    "\n"
   ]
  },
  {
   "cell_type": "code",
   "execution_count": 596,
   "id": "b2b062d1",
   "metadata": {},
   "outputs": [
    {
     "name": "stdout",
     "output_type": "stream",
     "text": [
      "Mean Squared Error (MSE): 0.012583047208116172\n"
     ]
    }
   ],
   "source": [
    "# Calculate MSE\n",
    "mse = mean_squared_error(hourly_stat[ 'Gas_sum'], hourly_stat['estimated_gas_con1'])\n",
    "print(f'Mean Squared Error (MSE): {mse}')\n",
    "\n"
   ]
  },
  {
   "cell_type": "code",
   "execution_count": 597,
   "id": "29832e14",
   "metadata": {},
   "outputs": [
    {
     "name": "stdout",
     "output_type": "stream",
     "text": [
      "Root Mean Squared Error (RMSE): 0.11217418244906523\n"
     ]
    }
   ],
   "source": [
    "# Calculate RMSE\n",
    "rmse = np.sqrt(mse)\n",
    "print(f'Root Mean Squared Error (RMSE): {rmse}')\n"
   ]
  },
  {
   "cell_type": "code",
   "execution_count": 598,
   "id": "206795c4",
   "metadata": {},
   "outputs": [
    {
     "name": "stdout",
     "output_type": "stream",
     "text": [
      "Mean Absolute Percentage Error (MAPE): 113.59099108642907\n"
     ]
    }
   ],
   "source": [
    "\n",
    "# Calculate MAPE\n",
    "mape = np.mean(np.abs((hourly_stat[ 'Gas_sum'] - hourly_stat['estimated_gas_con1']) / hourly_stat[ 'Gas_sum'])) * 100\n",
    "print(f'Mean Absolute Percentage Error (MAPE): {mape}')\n",
    "\n"
   ]
  },
  {
   "cell_type": "code",
   "execution_count": 599,
   "id": "85acba69",
   "metadata": {},
   "outputs": [
    {
     "name": "stdout",
     "output_type": "stream",
     "text": [
      "R-squared (R^2): -0.5723949188308515\n"
     ]
    }
   ],
   "source": [
    "# Calculate R-squared\n",
    "r2 = r2_score(hourly_stat[ 'Gas_sum'], hourly_stat['estimated_gas_con1'])\n",
    "print(f'R-squared (R^2): {r2}')"
   ]
  },
  {
   "cell_type": "code",
   "execution_count": null,
   "id": "189ffa04",
   "metadata": {},
   "outputs": [],
   "source": []
  },
  {
   "cell_type": "markdown",
   "id": "085fed74",
   "metadata": {},
   "source": [
    "# METHOD 2 GAS - DWH ESTIMATE"
   ]
  },
  {
   "cell_type": "code",
   "execution_count": null,
   "id": "5c1577b0",
   "metadata": {},
   "outputs": [],
   "source": []
  },
  {
   "cell_type": "code",
   "execution_count": 600,
   "id": "78a376e2",
   "metadata": {
    "scrolled": true
   },
   "outputs": [],
   "source": [
    "hourly_stat['est_gas_con_SH2']=hourly_stat['Gas_sum']- hourly_stat['est_gas_con_DWH']\n"
   ]
  },
  {
   "cell_type": "code",
   "execution_count": 601,
   "id": "6e1b71dc",
   "metadata": {},
   "outputs": [],
   "source": [
    "#hourly_stat"
   ]
  },
  {
   "cell_type": "code",
   "execution_count": 602,
   "id": "bdef3e0f",
   "metadata": {},
   "outputs": [],
   "source": [
    "hourly_stat['est_gas_con_SH2_0'] = np.abs(hourly_stat['est_gas_con_SH2'] )"
   ]
  },
  {
   "cell_type": "code",
   "execution_count": 603,
   "id": "89fe13de",
   "metadata": {
    "scrolled": true
   },
   "outputs": [],
   "source": [
    "#hourly_stat"
   ]
  },
  {
   "cell_type": "code",
   "execution_count": 604,
   "id": "0ed14e79",
   "metadata": {},
   "outputs": [
    {
     "data": {
      "image/png": "[encoded data removed]",
      "text/plain": [
       "<Figure size 640x480 with 1 Axes>"
      ]
     },
     "metadata": {},
     "output_type": "display_data"
    }
   ],
   "source": [
    "plt.plot(hourly_stat[ 'Gas_sum'], label='Gas_sum')\n",
    "plt.plot(hourly_stat[ 'est_gas_con_SH2'], label='est_gas_con_SH2')\n",
    "plt.plot(hourly_stat[ 'est_gas_con_DWH'], label='est_gas_con_DWH')\n",
    "plt.legend()\n",
    "\n",
    "plt.show()"
   ]
  },
  {
   "cell_type": "code",
   "execution_count": 605,
   "id": "0a81aa70",
   "metadata": {},
   "outputs": [],
   "source": [
    "hourly_stat['estimated_gas_con2']= hourly_stat[ 'est_gas_con_SH2']+hourly_stat[ 'est_gas_con_DWH']"
   ]
  },
  {
   "cell_type": "code",
   "execution_count": 606,
   "id": "a42a501b",
   "metadata": {
    "scrolled": false
   },
   "outputs": [
    {
     "data": {
      "image/png": "[encoded data removed]",
      "text/plain": [
       "<Figure size 640x480 with 1 Axes>"
      ]
     },
     "metadata": {},
     "output_type": "display_data"
    },
    {
     "data": {
      "text/plain": [
       "Date\n",
       "2020-03-08 00:00:00    0.080621\n",
       "2020-03-08 01:00:00    0.057000\n",
       "2020-03-08 02:00:00    0.057333\n",
       "2020-03-08 03:00:00    0.072000\n",
       "2020-03-08 04:00:00    0.051333\n",
       "                         ...   \n",
       "2021-03-02 04:00:00    0.043333\n",
       "2021-03-02 05:00:00    0.038667\n",
       "2021-03-02 06:00:00    0.149000\n",
       "2021-03-02 07:00:00    0.228667\n",
       "2021-03-02 08:00:00    0.228000\n",
       "Name: estimated_gas_con2, Length: 8312, dtype: float64"
      ]
     },
     "execution_count": 606,
     "metadata": {},
     "output_type": "execute_result"
    }
   ],
   "source": [
    "plt.plot(hourly_stat[ 'Gas_sum'], label='Gas_sum')\n",
    "plt.plot(hourly_stat['estimated_gas_con2'], label='estimated_gas_con2')\n",
    "plt.legend()\n",
    "\n",
    "plt.show()\n",
    "hourly_stat['estimated_gas_con2']"
   ]
  },
  {
   "cell_type": "code",
   "execution_count": null,
   "id": "235e63ac",
   "metadata": {},
   "outputs": [],
   "source": []
  },
  {
   "cell_type": "code",
   "execution_count": 607,
   "id": "a1939c69",
   "metadata": {},
   "outputs": [],
   "source": [
    "hourly_stat.replace([np.inf, -np.inf], np.nan, inplace=True)"
   ]
  },
  {
   "cell_type": "code",
   "execution_count": 608,
   "id": "17070d77",
   "metadata": {},
   "outputs": [],
   "source": [
    "hourly_stat.dropna(inplace=True)\n"
   ]
  },
  {
   "cell_type": "code",
   "execution_count": 609,
   "id": "59ea3caa",
   "metadata": {},
   "outputs": [],
   "source": [
    "#hourly_stat"
   ]
  },
  {
   "cell_type": "code",
   "execution_count": 610,
   "id": "c8a97b75",
   "metadata": {},
   "outputs": [
    {
     "name": "stdout",
     "output_type": "stream",
     "text": [
      "Mean Absolute Error (MAE): 1.0743149582561492e-18\n"
     ]
    }
   ],
   "source": [
    "\n",
    "# Calculate MAE\n",
    "mae = mean_absolute_error(hourly_stat[ 'Gas_sum'], hourly_stat['estimated_gas_con2'])\n",
    "print(f'Mean Absolute Error (MAE): {mae}')\n",
    "\n"
   ]
  },
  {
   "cell_type": "code",
   "execution_count": 611,
   "id": "25b1fdd1",
   "metadata": {},
   "outputs": [
    {
     "name": "stdout",
     "output_type": "stream",
     "text": [
      "Mean Squared Error (MSE): 2.731124228258348e-35\n"
     ]
    }
   ],
   "source": [
    "# Calculate MSE\n",
    "mse = mean_squared_error(hourly_stat[ 'Gas_sum'], hourly_stat['estimated_gas_con2'])\n",
    "print(f'Mean Squared Error (MSE): {mse}')\n",
    "\n"
   ]
  },
  {
   "cell_type": "code",
   "execution_count": 612,
   "id": "d4c784d6",
   "metadata": {},
   "outputs": [
    {
     "name": "stdout",
     "output_type": "stream",
     "text": [
      "Root Mean Squared Error (RMSE): 5.2260159091399135e-18\n"
     ]
    }
   ],
   "source": [
    "# Calculate RMSE\n",
    "rmse = np.sqrt(mse)\n",
    "print(f'Root Mean Squared Error (RMSE): {rmse}')\n"
   ]
  },
  {
   "cell_type": "code",
   "execution_count": 613,
   "id": "4dc06b74",
   "metadata": {},
   "outputs": [
    {
     "name": "stdout",
     "output_type": "stream",
     "text": [
      "Mean Absolute Percentage Error (MAPE): 1.7162523344923724e-15\n"
     ]
    }
   ],
   "source": [
    "\n",
    "# Calculate MAPE\n",
    "mape = np.mean(np.abs((hourly_stat[ 'Gas_sum'] - hourly_stat['estimated_gas_con2']) / hourly_stat[ 'Gas_sum'])) * 100\n",
    "print(f'Mean Absolute Percentage Error (MAPE): {mape}')\n",
    "\n"
   ]
  },
  {
   "cell_type": "code",
   "execution_count": 614,
   "id": "5293388a",
   "metadata": {},
   "outputs": [
    {
     "name": "stdout",
     "output_type": "stream",
     "text": [
      "R-squared (R^2): 1.0\n"
     ]
    }
   ],
   "source": [
    "# Calculate R-squared\n",
    "r2 = r2_score(hourly_stat[ 'Gas_sum'], hourly_stat['estimated_gas_con2'])\n",
    "print(f'R-squared (R^2): {r2}')"
   ]
  },
  {
   "cell_type": "code",
   "execution_count": null,
   "id": "0129cb9e",
   "metadata": {},
   "outputs": [],
   "source": []
  },
  {
   "cell_type": "code",
   "execution_count": null,
   "id": "baddff1e",
   "metadata": {},
   "outputs": [],
   "source": []
  },
  {
   "cell_type": "code",
   "execution_count": 615,
   "id": "9cab3c10",
   "metadata": {},
   "outputs": [
    {
     "data": {
      "text/plain": [
       "date                     object\n",
       "Gas_sum                 float64\n",
       "Gas_max                 float64\n",
       "Gas_min                 float64\n",
       "Gas_mean                float64\n",
       "ext_temp_max            float64\n",
       "ext_temp_min            float64\n",
       "ext_temp_mean           float64\n",
       "ext_hum_max             float64\n",
       "ext_hum_min             float64\n",
       "ext_hum_mean            float64\n",
       "SH_temp_max             float64\n",
       "SH_temp_min             float64\n",
       "SH_temp_mean            float64\n",
       "SH_hum_max              float64\n",
       "SH_hum_min              float64\n",
       "SH_hum_mean             float64\n",
       "DWH_temp_max            float64\n",
       "DWH_temp_min            float64\n",
       "DWH_temp_mean           float64\n",
       "DWH_hum_max             float64\n",
       "DWH_hum_min             float64\n",
       "DWH_hum_mean            float64\n",
       "Heating_Period           object\n",
       "SH_temp_diff            float64\n",
       "SH_hum_diff             float64\n",
       "DWH_temp_diff           float64\n",
       "DWH_hum_diff            float64\n",
       "Gas_diff                float64\n",
       "DWH_gas_con_per_temp    float64\n",
       "DWH_gas_con_per_hum     float64\n",
       "est_gas_con_DWH_temp    float64\n",
       "est_gas_con_DWH_hum     float64\n",
       "est_gas_con_DWH         float64\n",
       "est_gas_con_SH_temp     float64\n",
       "est_gas_con_SH_hum      float64\n",
       "est_gas_con_SH1         float64\n",
       "estimated_gas_con1      float64\n",
       "est_gas_con_SH2         float64\n",
       "est_gas_con_SH2_0       float64\n",
       "estimated_gas_con2      float64\n",
       "dtype: object"
      ]
     },
     "execution_count": 615,
     "metadata": {},
     "output_type": "execute_result"
    }
   ],
   "source": [
    "hourly_stat.dtypes"
   ]
  },
  {
   "cell_type": "code",
   "execution_count": 616,
   "id": "bfeff45b",
   "metadata": {
    "scrolled": false
   },
   "outputs": [
    {
     "data": {
      "image/png": "[encoded data removed]",
      "text/plain": [
       "<Figure size 640x480 with 1 Axes>"
      ]
     },
     "metadata": {},
     "output_type": "display_data"
    }
   ],
   "source": [
    "plt.plot(hourly_stat['date'],hourly_stat['DWH_hum_mean'])\n",
    "plt.plot(hourly_stat['date'],hourly_stat['SH_hum_mean'])\n",
    "#plt.plot(hourly_stat['Date'],hourly_stat['ext_hum_mean'])\n",
    "\n",
    "plt.show()"
   ]
  },
  {
   "cell_type": "code",
   "execution_count": null,
   "id": "009f12ed",
   "metadata": {},
   "outputs": [],
   "source": []
  },
  {
   "cell_type": "markdown",
   "id": "bb8131a0",
   "metadata": {},
   "source": [
    "# using dwh humidity to find period of sh gas consumption "
   ]
  },
  {
   "cell_type": "code",
   "execution_count": 617,
   "id": "ab2240a6",
   "metadata": {},
   "outputs": [],
   "source": [
    "sh_gas_con = hourly_stat[hourly_stat['DWH_hum_mean']<50]"
   ]
  },
  {
   "cell_type": "code",
   "execution_count": 618,
   "id": "126e9344",
   "metadata": {},
   "outputs": [
    {
     "data": {
      "text/plain": [
       "Date\n",
       "2020-03-08 00:00:00    True\n",
       "2020-03-08 01:00:00    True\n",
       "2020-03-08 05:00:00    True\n",
       "2020-03-08 06:00:00    True\n",
       "2020-03-08 07:00:00    True\n",
       "                       ... \n",
       "2021-03-02 03:00:00    True\n",
       "2021-03-02 04:00:00    True\n",
       "2021-03-02 05:00:00    True\n",
       "2021-03-02 07:00:00    True\n",
       "2021-03-02 08:00:00    True\n",
       "Name: Heating_Period, Length: 2214, dtype: bool"
      ]
     },
     "execution_count": 618,
     "metadata": {},
     "output_type": "execute_result"
    }
   ],
   "source": [
    "sh_gas_con['Heating_Period'] == 'SH+DWH'"
   ]
  },
  {
   "cell_type": "code",
   "execution_count": 619,
   "id": "3fe34456",
   "metadata": {},
   "outputs": [],
   "source": [
    "sh_dwh_gas_con = sh_gas_con[sh_gas_con['Heating_Period'] =='SH+DWH']"
   ]
  },
  {
   "cell_type": "code",
   "execution_count": 620,
   "id": "d7fd6c79",
   "metadata": {},
   "outputs": [],
   "source": [
    "sh_gas_per_hum=(sh_dwh_gas_con['Gas_mean']/sh_dwh_gas_con['SH_hum_mean'])"
   ]
  },
  {
   "cell_type": "code",
   "execution_count": 621,
   "id": "b5163cf2",
   "metadata": {},
   "outputs": [
    {
     "data": {
      "text/plain": [
       "Date\n",
       "2020-03-08 00:00:00    0.000752\n",
       "2020-03-08 01:00:00    0.000522\n",
       "2020-03-08 05:00:00    0.000391\n",
       "2020-03-08 06:00:00    0.000588\n",
       "2020-03-08 07:00:00    0.001511\n",
       "                         ...   \n",
       "2021-03-02 03:00:00    0.000494\n",
       "2021-03-02 04:00:00    0.000422\n",
       "2021-03-02 05:00:00    0.000375\n",
       "2021-03-02 07:00:00    0.002263\n",
       "2021-03-02 08:00:00    0.002304\n",
       "Length: 1970, dtype: float64"
      ]
     },
     "execution_count": 621,
     "metadata": {},
     "output_type": "execute_result"
    }
   ],
   "source": [
    "sh_gas_per_hum"
   ]
  },
  {
   "cell_type": "code",
   "execution_count": 622,
   "id": "d11e91ce",
   "metadata": {},
   "outputs": [],
   "source": [
    "est_sh_hum_gas=hourly_stat['SH_hum_mean']*sh_gas_per_hum "
   ]
  },
  {
   "cell_type": "code",
   "execution_count": 623,
   "id": "d0a6cce7",
   "metadata": {},
   "outputs": [
    {
     "data": {
      "text/plain": [
       "Date\n",
       "2020-03-08 00:00:00    0.040310\n",
       "2020-03-08 01:00:00    0.028500\n",
       "2020-03-08 02:00:00         NaN\n",
       "2020-03-08 03:00:00         NaN\n",
       "2020-03-08 04:00:00         NaN\n",
       "                         ...   \n",
       "2021-03-02 04:00:00    0.021667\n",
       "2021-03-02 05:00:00    0.019333\n",
       "2021-03-02 06:00:00         NaN\n",
       "2021-03-02 07:00:00    0.114333\n",
       "2021-03-02 08:00:00    0.114000\n",
       "Name: est_sh_hum_gas, Length: 8312, dtype: float64"
      ]
     },
     "execution_count": 623,
     "metadata": {},
     "output_type": "execute_result"
    }
   ],
   "source": [
    "hourly_stat['est_sh_hum_gas']=est_sh_hum_gas\n",
    "hourly_stat['est_sh_hum_gas']"
   ]
  },
  {
   "cell_type": "code",
   "execution_count": 624,
   "id": "1d34891d",
   "metadata": {},
   "outputs": [],
   "source": [
    "sh_dwh_gas_con=sh_dwh_gas_con[sh_dwh_gas_con['Gas_sum']<1]"
   ]
  },
  {
   "cell_type": "code",
   "execution_count": 625,
   "id": "064765c2",
   "metadata": {},
   "outputs": [],
   "source": [
    "sh_gas_per_temp = (sh_dwh_gas_con['Gas_sum']/sh_dwh_gas_con['SH_temp_mean']).mean()"
   ]
  },
  {
   "cell_type": "code",
   "execution_count": 626,
   "id": "de0b1312",
   "metadata": {},
   "outputs": [],
   "source": [
    "est_sh_temp_gas=hourly_stat['SH_temp_mean']*sh_gas_per_temp "
   ]
  },
  {
   "cell_type": "code",
   "execution_count": 627,
   "id": "138faf5d",
   "metadata": {},
   "outputs": [],
   "source": [
    "hourly_stat['est_sh_temp_gas']=est_sh_temp_gas"
   ]
  },
  {
   "cell_type": "code",
   "execution_count": 628,
   "id": "e9f1965d",
   "metadata": {},
   "outputs": [],
   "source": [
    "est_sh_gas = (est_sh_temp_gas+est_sh_hum_gas)/2"
   ]
  },
  {
   "cell_type": "code",
   "execution_count": 629,
   "id": "4a0d402e",
   "metadata": {},
   "outputs": [],
   "source": [
    "hourly_stat['est_sh_gas']=est_sh_gas"
   ]
  },
  {
   "cell_type": "code",
   "execution_count": 630,
   "id": "80430532",
   "metadata": {
    "scrolled": true
   },
   "outputs": [
    {
     "data": {
      "text/plain": [
       "Date\n",
       "2020-03-08 00:00:00    0.106229\n",
       "2020-03-08 01:00:00    0.098621\n",
       "2020-03-08 02:00:00         NaN\n",
       "2020-03-08 03:00:00         NaN\n",
       "2020-03-08 04:00:00         NaN\n",
       "                         ...   \n",
       "2021-03-02 04:00:00    0.091788\n",
       "2021-03-02 05:00:00    0.089319\n",
       "2021-03-02 06:00:00         NaN\n",
       "2021-03-02 07:00:00    0.138476\n",
       "2021-03-02 08:00:00    0.139027\n",
       "Name: est_sh_gas, Length: 8312, dtype: float64"
      ]
     },
     "execution_count": 630,
     "metadata": {},
     "output_type": "execute_result"
    }
   ],
   "source": [
    "#sh_gas_con['Heating_Period'] == 'DWH'\n",
    "hourly_stat['est_sh_gas'] "
   ]
  },
  {
   "cell_type": "code",
   "execution_count": 631,
   "id": "5091eaf5",
   "metadata": {},
   "outputs": [],
   "source": [
    "#hourly_stat.loc[hourly_stat['Heating_Period'] == 'DWH', 'est_sh_gas'] = 0\n",
    "hourly_stat[hourly_stat['est_sh_gas'].isna()==True]=0\n"
   ]
  },
  {
   "cell_type": "code",
   "execution_count": 632,
   "id": "881c1b63",
   "metadata": {},
   "outputs": [
    {
     "data": {
      "text/plain": [
       "count    8312.000000\n",
       "mean        0.028959\n",
       "std         0.053288\n",
       "min         0.000000\n",
       "25%         0.000000\n",
       "50%         0.000000\n",
       "75%         0.000000\n",
       "max         0.200543\n",
       "Name: est_sh_gas, dtype: float64"
      ]
     },
     "execution_count": 632,
     "metadata": {},
     "output_type": "execute_result"
    }
   ],
   "source": [
    "hourly_stat['est_sh_gas'].describe()"
   ]
  },
  {
   "cell_type": "code",
   "execution_count": 633,
   "id": "fed1cf03",
   "metadata": {},
   "outputs": [],
   "source": [
    "#gas = hourly_stat[hourly_stat['Gas_sum'] <1]"
   ]
  },
  {
   "cell_type": "code",
   "execution_count": null,
   "id": "04b45c31",
   "metadata": {},
   "outputs": [],
   "source": []
  },
  {
   "cell_type": "code",
   "execution_count": 634,
   "id": "81b08c6b",
   "metadata": {},
   "outputs": [],
   "source": [
    "dwh_gas_con = hourly_stat[hourly_stat['DWH_hum_mean']>50]"
   ]
  },
  {
   "cell_type": "code",
   "execution_count": 635,
   "id": "4c6b602b",
   "metadata": {},
   "outputs": [
    {
     "data": {
      "text/html": [
       "<div>\n",
       "<style scoped>\n",
       "    .dataframe tbody tr th:only-of-type {\n",
       "        vertical-align: middle;\n",
       "    }\n",
       "\n",
       "    .dataframe tbody tr th {\n",
       "        vertical-align: top;\n",
       "    }\n",
       "\n",
       "    .dataframe thead th {\n",
       "        text-align: right;\n",
       "    }\n",
       "</style>\n",
       "<table border=\"1\" class=\"dataframe\">\n",
       "  <thead>\n",
       "    <tr style=\"text-align: right;\">\n",
       "      <th></th>\n",
       "      <th>date</th>\n",
       "      <th>Gas_sum</th>\n",
       "      <th>Gas_max</th>\n",
       "      <th>Gas_min</th>\n",
       "      <th>Gas_mean</th>\n",
       "      <th>ext_temp_max</th>\n",
       "      <th>ext_temp_min</th>\n",
       "      <th>ext_temp_mean</th>\n",
       "      <th>ext_hum_max</th>\n",
       "      <th>ext_hum_min</th>\n",
       "      <th>...</th>\n",
       "      <th>est_gas_con_SH_temp</th>\n",
       "      <th>est_gas_con_SH_hum</th>\n",
       "      <th>est_gas_con_SH1</th>\n",
       "      <th>estimated_gas_con1</th>\n",
       "      <th>est_gas_con_SH2</th>\n",
       "      <th>est_gas_con_SH2_0</th>\n",
       "      <th>estimated_gas_con2</th>\n",
       "      <th>est_sh_hum_gas</th>\n",
       "      <th>est_sh_temp_gas</th>\n",
       "      <th>est_sh_gas</th>\n",
       "    </tr>\n",
       "    <tr>\n",
       "      <th>Date</th>\n",
       "      <th></th>\n",
       "      <th></th>\n",
       "      <th></th>\n",
       "      <th></th>\n",
       "      <th></th>\n",
       "      <th></th>\n",
       "      <th></th>\n",
       "      <th></th>\n",
       "      <th></th>\n",
       "      <th></th>\n",
       "      <th></th>\n",
       "      <th></th>\n",
       "      <th></th>\n",
       "      <th></th>\n",
       "      <th></th>\n",
       "      <th></th>\n",
       "      <th></th>\n",
       "      <th></th>\n",
       "      <th></th>\n",
       "      <th></th>\n",
       "      <th></th>\n",
       "    </tr>\n",
       "  </thead>\n",
       "  <tbody>\n",
       "  </tbody>\n",
       "</table>\n",
       "<p>0 rows × 44 columns</p>\n",
       "</div>"
      ],
      "text/plain": [
       "Empty DataFrame\n",
       "Columns: [date, Gas_sum, Gas_max, Gas_min, Gas_mean, ext_temp_max, ext_temp_min, ext_temp_mean, ext_hum_max, ext_hum_min, ext_hum_mean, SH_temp_max, SH_temp_min, SH_temp_mean, SH_hum_max, SH_hum_min, SH_hum_mean, DWH_temp_max, DWH_temp_min, DWH_temp_mean, DWH_hum_max, DWH_hum_min, DWH_hum_mean, Heating_Period, SH_temp_diff, SH_hum_diff, DWH_temp_diff, DWH_hum_diff, Gas_diff, DWH_gas_con_per_temp, DWH_gas_con_per_hum, est_gas_con_DWH_temp, est_gas_con_DWH_hum, est_gas_con_DWH, est_gas_con_SH_temp, est_gas_con_SH_hum, est_gas_con_SH1, estimated_gas_con1, est_gas_con_SH2, est_gas_con_SH2_0, estimated_gas_con2, est_sh_hum_gas, est_sh_temp_gas, est_sh_gas]\n",
       "Index: []\n",
       "\n",
       "[0 rows x 44 columns]"
      ]
     },
     "execution_count": 635,
     "metadata": {},
     "output_type": "execute_result"
    }
   ],
   "source": [
    "dwh_gas_con"
   ]
  },
  {
   "cell_type": "code",
   "execution_count": 636,
   "id": "348ae2e2",
   "metadata": {},
   "outputs": [],
   "source": [
    "dwh_gas_per_hum=((dwh_gas_con['Gas_mean'])/dwh_gas_con['DWH_hum_mean'])"
   ]
  },
  {
   "cell_type": "code",
   "execution_count": 637,
   "id": "188359c6",
   "metadata": {},
   "outputs": [],
   "source": [
    "dwh_gas_per_hum2=((dwh_gas_con['Gas_mean']-hourly_stat['est_sh_gas'])/dwh_gas_con['DWH_hum_mean'])"
   ]
  },
  {
   "cell_type": "code",
   "execution_count": 638,
   "id": "9393e9c9",
   "metadata": {},
   "outputs": [],
   "source": [
    "est_dwh_hum_gas=hourly_stat['DWH_hum_mean']* dwh_gas_per_hum"
   ]
  },
  {
   "cell_type": "code",
   "execution_count": 639,
   "id": "bac69526",
   "metadata": {},
   "outputs": [],
   "source": [
    "hourly_stat['est_dwh_hum_gas']=est_dwh_hum_gas"
   ]
  },
  {
   "cell_type": "code",
   "execution_count": null,
   "id": "2b5e9efe",
   "metadata": {},
   "outputs": [],
   "source": []
  },
  {
   "cell_type": "code",
   "execution_count": 640,
   "id": "963ddada",
   "metadata": {},
   "outputs": [],
   "source": [
    "hourly_stat['est_gas_3']=hourly_stat['est_sh_gas']+hourly_stat['est_gas_con_DWH']"
   ]
  },
  {
   "cell_type": "code",
   "execution_count": null,
   "id": "3ab9e595",
   "metadata": {},
   "outputs": [],
   "source": []
  },
  {
   "cell_type": "code",
   "execution_count": 641,
   "id": "c3316c18",
   "metadata": {},
   "outputs": [],
   "source": [
    "total_est_gas = hourly_stat['est_dwh_hum_gas']+hourly_stat['est_sh_gas']"
   ]
  },
  {
   "cell_type": "code",
   "execution_count": 642,
   "id": "d71dc9e4",
   "metadata": {},
   "outputs": [],
   "source": [
    "hourly_stat['total_est_gas3']=total_est_gas"
   ]
  },
  {
   "cell_type": "code",
   "execution_count": 643,
   "id": "aa48675e",
   "metadata": {},
   "outputs": [
    {
     "data": {
      "text/plain": [
       "Date\n",
       "2020-03-08 00:00:00    0.040310\n",
       "2020-03-08 01:00:00    0.028500\n",
       "2020-03-08 02:00:00    0.000000\n",
       "2020-03-08 03:00:00    0.000000\n",
       "2020-03-08 04:00:00    0.000000\n",
       "                         ...   \n",
       "2021-03-02 04:00:00    0.021667\n",
       "2021-03-02 05:00:00    0.019333\n",
       "2021-03-02 06:00:00    0.000000\n",
       "2021-03-02 07:00:00    0.114333\n",
       "2021-03-02 08:00:00    0.114000\n",
       "Name: Gas_mean, Length: 8312, dtype: float64"
      ]
     },
     "execution_count": 643,
     "metadata": {},
     "output_type": "execute_result"
    }
   ],
   "source": [
    "hourly_stat['Gas_mean']"
   ]
  },
  {
   "cell_type": "code",
   "execution_count": 644,
   "id": "cf63793e",
   "metadata": {
    "scrolled": false
   },
   "outputs": [
    {
     "data": {
      "image/png": "[encoded data removed]",
      "text/plain": [
       "<Figure size 640x480 with 1 Axes>"
      ]
     },
     "metadata": {},
     "output_type": "display_data"
    }
   ],
   "source": [
    "#plt.plot(hourly_stat['Date'],hourly_stat['Gas_mean'], label='estimated_gas_con2')\n",
    "#plt.plot(hourly_stat['Date'],est_sh_temp_gas)\n",
    "#plt.plot(hourly_stat['Date'],est_sh_hum_gas)\n",
    "#plt.plot(hourly_stat['Date'],hourly_stat['Heating_Period'])\n",
    "plt.plot(hourly_stat['Gas_mean'], label='Gas_mean')\n",
    "\n",
    "#plt.plot(hourly_stat['date'],hourly_stat['est_gas_con_DWH'], label='est_gas_con_DWH')\n",
    "plt.plot(est_dwh_temp_gas, label='est_gas_con_DWH')\n",
    "plt.plot(hourly_stat['est_sh_gas'], label='est_sh_gas')\n",
    "\n",
    "#plt.plot(hourly_stat['Date'],hourly_stat['est_gas_con_DWH'])\n",
    "plt.legend()\n",
    "\n",
    "plt.show()"
   ]
  },
  {
   "cell_type": "code",
   "execution_count": 645,
   "id": "57dfa95a",
   "metadata": {
    "scrolled": false
   },
   "outputs": [
    {
     "data": {
      "text/plain": [
       "Date\n",
       "2020-03-08 00:00:00    0.0\n",
       "2020-03-08 01:00:00    0.0\n",
       "2020-03-08 02:00:00    0.0\n",
       "2020-03-08 03:00:00    0.0\n",
       "2020-03-08 04:00:00    0.0\n",
       "                      ... \n",
       "2021-03-02 04:00:00    0.0\n",
       "2021-03-02 05:00:00    0.0\n",
       "2021-03-02 06:00:00    0.0\n",
       "2021-03-02 07:00:00    0.0\n",
       "2021-03-02 08:00:00    0.0\n",
       "Name: est_dwh_hum_gas, Length: 8312, dtype: float64"
      ]
     },
     "execution_count": 645,
     "metadata": {},
     "output_type": "execute_result"
    }
   ],
   "source": [
    "hourly_stat[hourly_stat['est_dwh_hum_gas'].isna()==True]=0\n",
    "hourly_stat['est_dwh_hum_gas']"
   ]
  },
  {
   "cell_type": "code",
   "execution_count": 646,
   "id": "b1759da0",
   "metadata": {},
   "outputs": [
    {
     "data": {
      "text/plain": [
       "Date\n",
       "2020-03-08 00:00:00    0.0\n",
       "2020-03-08 01:00:00    0.0\n",
       "2020-03-08 02:00:00    0.0\n",
       "2020-03-08 03:00:00    0.0\n",
       "2020-03-08 04:00:00    0.0\n",
       "                      ... \n",
       "2021-03-02 04:00:00    0.0\n",
       "2021-03-02 05:00:00    0.0\n",
       "2021-03-02 06:00:00    0.0\n",
       "2021-03-02 07:00:00    0.0\n",
       "2021-03-02 08:00:00    0.0\n",
       "Name: est_sh_gas, Length: 8312, dtype: float64"
      ]
     },
     "execution_count": 646,
     "metadata": {},
     "output_type": "execute_result"
    }
   ],
   "source": [
    "hourly_stat[hourly_stat['est_sh_gas'].isna()==True]=0\n",
    "hourly_stat['est_sh_gas']"
   ]
  },
  {
   "cell_type": "code",
   "execution_count": 647,
   "id": "6e24e6ba",
   "metadata": {
    "scrolled": true
   },
   "outputs": [
    {
     "data": {
      "text/plain": [
       "Date\n",
       "2020-03-08 00:00:00    0.0\n",
       "2020-03-08 01:00:00    0.0\n",
       "2020-03-08 02:00:00    0.0\n",
       "2020-03-08 03:00:00    0.0\n",
       "2020-03-08 04:00:00    0.0\n",
       "                      ... \n",
       "2021-03-02 04:00:00    0.0\n",
       "2021-03-02 05:00:00    0.0\n",
       "2021-03-02 06:00:00    0.0\n",
       "2021-03-02 07:00:00    0.0\n",
       "2021-03-02 08:00:00    0.0\n",
       "Length: 8312, dtype: float64"
      ]
     },
     "execution_count": 647,
     "metadata": {},
     "output_type": "execute_result"
    }
   ],
   "source": [
    "est_gas_con_3 = hourly_stat['est_dwh_hum_gas']+hourly_stat['est_sh_gas']\n",
    "est_gas_con_3"
   ]
  },
  {
   "cell_type": "code",
   "execution_count": 648,
   "id": "b28aca71",
   "metadata": {
    "scrolled": false
   },
   "outputs": [
    {
     "data": {
      "image/png": "[encoded data removed]",
      "text/plain": [
       "<Figure size 640x480 with 1 Axes>"
      ]
     },
     "metadata": {},
     "output_type": "display_data"
    }
   ],
   "source": [
    "#plt.plot(hourly_stat['date'],hourly_stat['Gas_mean'] ,label='Gas_mean')\n",
    "plt.plot(hourly_stat['date'],est_gas_con_3, label='est_gas_con_3')\n",
    "#plt.plot(hourly_stat['Date'],hourly_stat['est_gas_con_DWH'])\n",
    "plt.legend()\n",
    "plt.show()"
   ]
  },
  {
   "cell_type": "code",
   "execution_count": 649,
   "id": "55b9bdc5",
   "metadata": {},
   "outputs": [
    {
     "name": "stderr",
     "output_type": "stream",
     "text": [
      "C:\\Users\\haochen shi\\AppData\\Local\\Temp\\ipykernel_26008\\3799891691.py:1: FutureWarning: A value is trying to be set on a copy of a DataFrame or Series through chained assignment using an inplace method.\n",
      "The behavior will change in pandas 3.0. This inplace method will never work because the intermediate object on which we are setting values always behaves as a copy.\n",
      "\n",
      "For example, when doing 'df[col].method(value, inplace=True)', try using 'df.method({col: value}, inplace=True)' or df[col] = df[col].method(value) instead, to perform the operation inplace on the original object.\n",
      "\n",
      "\n",
      "  hourly_stat['est_gas_3']= hourly_stat['est_gas_3'].replace([np.inf, -np.inf], np.nan, inplace=True)\n"
     ]
    }
   ],
   "source": [
    " hourly_stat['est_gas_3']= hourly_stat['est_gas_3'].replace([np.inf, -np.inf], np.nan, inplace=True)"
   ]
  },
  {
   "cell_type": "code",
   "execution_count": 650,
   "id": "54653a5a",
   "metadata": {},
   "outputs": [
    {
     "ename": "ValueError",
     "evalue": "Input contains NaN.",
     "output_type": "error",
     "traceback": [
      "\u001b[1;31m---------------------------------------------------------------------------\u001b[0m",
      "\u001b[1;31mValueError\u001b[0m                                Traceback (most recent call last)",
      "Cell \u001b[1;32mIn[650], line 2\u001b[0m\n\u001b[0;32m      1\u001b[0m \u001b[38;5;66;03m# Calculate MAE\u001b[39;00m\n\u001b[1;32m----> 2\u001b[0m mae \u001b[38;5;241m=\u001b[39m mean_absolute_error(hourly_stat[ \u001b[38;5;124m'\u001b[39m\u001b[38;5;124mGas_mean\u001b[39m\u001b[38;5;124m'\u001b[39m], hourly_stat[\u001b[38;5;124m'\u001b[39m\u001b[38;5;124mest_gas_3\u001b[39m\u001b[38;5;124m'\u001b[39m])\n\u001b[0;32m      3\u001b[0m \u001b[38;5;28mprint\u001b[39m(\u001b[38;5;124mf\u001b[39m\u001b[38;5;124m'\u001b[39m\u001b[38;5;124mMean Absolute Error (MAE): \u001b[39m\u001b[38;5;132;01m{\u001b[39;00mmae\u001b[38;5;132;01m}\u001b[39;00m\u001b[38;5;124m'\u001b[39m)\n",
      "File \u001b[1;32mF:\\anaconda\\Lib\\site-packages\\sklearn\\utils\\_param_validation.py:211\u001b[0m, in \u001b[0;36mvalidate_params.<locals>.decorator.<locals>.wrapper\u001b[1;34m(*args, **kwargs)\u001b[0m\n\u001b[0;32m    205\u001b[0m \u001b[38;5;28;01mtry\u001b[39;00m:\n\u001b[0;32m    206\u001b[0m     \u001b[38;5;28;01mwith\u001b[39;00m config_context(\n\u001b[0;32m    207\u001b[0m         skip_parameter_validation\u001b[38;5;241m=\u001b[39m(\n\u001b[0;32m    208\u001b[0m             prefer_skip_nested_validation \u001b[38;5;129;01mor\u001b[39;00m global_skip_validation\n\u001b[0;32m    209\u001b[0m         )\n\u001b[0;32m    210\u001b[0m     ):\n\u001b[1;32m--> 211\u001b[0m         \u001b[38;5;28;01mreturn\u001b[39;00m func(\u001b[38;5;241m*\u001b[39margs, \u001b[38;5;241m*\u001b[39m\u001b[38;5;241m*\u001b[39mkwargs)\n\u001b[0;32m    212\u001b[0m \u001b[38;5;28;01mexcept\u001b[39;00m InvalidParameterError \u001b[38;5;28;01mas\u001b[39;00m e:\n\u001b[0;32m    213\u001b[0m     \u001b[38;5;66;03m# When the function is just a wrapper around an estimator, we allow\u001b[39;00m\n\u001b[0;32m    214\u001b[0m     \u001b[38;5;66;03m# the function to delegate validation to the estimator, but we replace\u001b[39;00m\n\u001b[0;32m    215\u001b[0m     \u001b[38;5;66;03m# the name of the estimator by the name of the function in the error\u001b[39;00m\n\u001b[0;32m    216\u001b[0m     \u001b[38;5;66;03m# message to avoid confusion.\u001b[39;00m\n\u001b[0;32m    217\u001b[0m     msg \u001b[38;5;241m=\u001b[39m re\u001b[38;5;241m.\u001b[39msub(\n\u001b[0;32m    218\u001b[0m         \u001b[38;5;124mr\u001b[39m\u001b[38;5;124m\"\u001b[39m\u001b[38;5;124mparameter of \u001b[39m\u001b[38;5;124m\\\u001b[39m\u001b[38;5;124mw+ must be\u001b[39m\u001b[38;5;124m\"\u001b[39m,\n\u001b[0;32m    219\u001b[0m         \u001b[38;5;124mf\u001b[39m\u001b[38;5;124m\"\u001b[39m\u001b[38;5;124mparameter of \u001b[39m\u001b[38;5;132;01m{\u001b[39;00mfunc\u001b[38;5;241m.\u001b[39m\u001b[38;5;18m__qualname__\u001b[39m\u001b[38;5;132;01m}\u001b[39;00m\u001b[38;5;124m must be\u001b[39m\u001b[38;5;124m\"\u001b[39m,\n\u001b[0;32m    220\u001b[0m         \u001b[38;5;28mstr\u001b[39m(e),\n\u001b[0;32m    221\u001b[0m     )\n",
      "File \u001b[1;32mF:\\anaconda\\Lib\\site-packages\\sklearn\\metrics\\_regression.py:204\u001b[0m, in \u001b[0;36mmean_absolute_error\u001b[1;34m(y_true, y_pred, sample_weight, multioutput)\u001b[0m\n\u001b[0;32m    140\u001b[0m \u001b[38;5;129m@validate_params\u001b[39m(\n\u001b[0;32m    141\u001b[0m     {\n\u001b[0;32m    142\u001b[0m         \u001b[38;5;124m\"\u001b[39m\u001b[38;5;124my_true\u001b[39m\u001b[38;5;124m\"\u001b[39m: [\u001b[38;5;124m\"\u001b[39m\u001b[38;5;124marray-like\u001b[39m\u001b[38;5;124m\"\u001b[39m],\n\u001b[1;32m   (...)\u001b[0m\n\u001b[0;32m    150\u001b[0m     y_true, y_pred, \u001b[38;5;241m*\u001b[39m, sample_weight\u001b[38;5;241m=\u001b[39m\u001b[38;5;28;01mNone\u001b[39;00m, multioutput\u001b[38;5;241m=\u001b[39m\u001b[38;5;124m\"\u001b[39m\u001b[38;5;124muniform_average\u001b[39m\u001b[38;5;124m\"\u001b[39m\n\u001b[0;32m    151\u001b[0m ):\n\u001b[0;32m    152\u001b[0m \u001b[38;5;250m    \u001b[39m\u001b[38;5;124;03m\"\"\"Mean absolute error regression loss.\u001b[39;00m\n\u001b[0;32m    153\u001b[0m \n\u001b[0;32m    154\u001b[0m \u001b[38;5;124;03m    Read more in the :ref:`User Guide <mean_absolute_error>`.\u001b[39;00m\n\u001b[1;32m   (...)\u001b[0m\n\u001b[0;32m    202\u001b[0m \u001b[38;5;124;03m    0.85...\u001b[39;00m\n\u001b[0;32m    203\u001b[0m \u001b[38;5;124;03m    \"\"\"\u001b[39;00m\n\u001b[1;32m--> 204\u001b[0m     y_type, y_true, y_pred, multioutput \u001b[38;5;241m=\u001b[39m _check_reg_targets(\n\u001b[0;32m    205\u001b[0m         y_true, y_pred, multioutput\n\u001b[0;32m    206\u001b[0m     )\n\u001b[0;32m    207\u001b[0m     check_consistent_length(y_true, y_pred, sample_weight)\n\u001b[0;32m    208\u001b[0m     output_errors \u001b[38;5;241m=\u001b[39m np\u001b[38;5;241m.\u001b[39maverage(np\u001b[38;5;241m.\u001b[39mabs(y_pred \u001b[38;5;241m-\u001b[39m y_true), weights\u001b[38;5;241m=\u001b[39msample_weight, axis\u001b[38;5;241m=\u001b[39m\u001b[38;5;241m0\u001b[39m)\n",
      "File \u001b[1;32mF:\\anaconda\\Lib\\site-packages\\sklearn\\metrics\\_regression.py:101\u001b[0m, in \u001b[0;36m_check_reg_targets\u001b[1;34m(y_true, y_pred, multioutput, dtype)\u001b[0m\n\u001b[0;32m     99\u001b[0m check_consistent_length(y_true, y_pred)\n\u001b[0;32m    100\u001b[0m y_true \u001b[38;5;241m=\u001b[39m check_array(y_true, ensure_2d\u001b[38;5;241m=\u001b[39m\u001b[38;5;28;01mFalse\u001b[39;00m, dtype\u001b[38;5;241m=\u001b[39mdtype)\n\u001b[1;32m--> 101\u001b[0m y_pred \u001b[38;5;241m=\u001b[39m check_array(y_pred, ensure_2d\u001b[38;5;241m=\u001b[39m\u001b[38;5;28;01mFalse\u001b[39;00m, dtype\u001b[38;5;241m=\u001b[39mdtype)\n\u001b[0;32m    103\u001b[0m \u001b[38;5;28;01mif\u001b[39;00m y_true\u001b[38;5;241m.\u001b[39mndim \u001b[38;5;241m==\u001b[39m \u001b[38;5;241m1\u001b[39m:\n\u001b[0;32m    104\u001b[0m     y_true \u001b[38;5;241m=\u001b[39m y_true\u001b[38;5;241m.\u001b[39mreshape((\u001b[38;5;241m-\u001b[39m\u001b[38;5;241m1\u001b[39m, \u001b[38;5;241m1\u001b[39m))\n",
      "File \u001b[1;32mF:\\anaconda\\Lib\\site-packages\\sklearn\\utils\\validation.py:959\u001b[0m, in \u001b[0;36mcheck_array\u001b[1;34m(array, accept_sparse, accept_large_sparse, dtype, order, copy, force_all_finite, ensure_2d, allow_nd, ensure_min_samples, ensure_min_features, estimator, input_name)\u001b[0m\n\u001b[0;32m    953\u001b[0m         \u001b[38;5;28;01mraise\u001b[39;00m \u001b[38;5;167;01mValueError\u001b[39;00m(\n\u001b[0;32m    954\u001b[0m             \u001b[38;5;124m\"\u001b[39m\u001b[38;5;124mFound array with dim \u001b[39m\u001b[38;5;132;01m%d\u001b[39;00m\u001b[38;5;124m. \u001b[39m\u001b[38;5;132;01m%s\u001b[39;00m\u001b[38;5;124m expected <= 2.\u001b[39m\u001b[38;5;124m\"\u001b[39m\n\u001b[0;32m    955\u001b[0m             \u001b[38;5;241m%\u001b[39m (array\u001b[38;5;241m.\u001b[39mndim, estimator_name)\n\u001b[0;32m    956\u001b[0m         )\n\u001b[0;32m    958\u001b[0m     \u001b[38;5;28;01mif\u001b[39;00m force_all_finite:\n\u001b[1;32m--> 959\u001b[0m         _assert_all_finite(\n\u001b[0;32m    960\u001b[0m             array,\n\u001b[0;32m    961\u001b[0m             input_name\u001b[38;5;241m=\u001b[39minput_name,\n\u001b[0;32m    962\u001b[0m             estimator_name\u001b[38;5;241m=\u001b[39mestimator_name,\n\u001b[0;32m    963\u001b[0m             allow_nan\u001b[38;5;241m=\u001b[39mforce_all_finite \u001b[38;5;241m==\u001b[39m \u001b[38;5;124m\"\u001b[39m\u001b[38;5;124mallow-nan\u001b[39m\u001b[38;5;124m\"\u001b[39m,\n\u001b[0;32m    964\u001b[0m         )\n\u001b[0;32m    966\u001b[0m \u001b[38;5;28;01mif\u001b[39;00m ensure_min_samples \u001b[38;5;241m>\u001b[39m \u001b[38;5;241m0\u001b[39m:\n\u001b[0;32m    967\u001b[0m     n_samples \u001b[38;5;241m=\u001b[39m _num_samples(array)\n",
      "File \u001b[1;32mF:\\anaconda\\Lib\\site-packages\\sklearn\\utils\\validation.py:124\u001b[0m, in \u001b[0;36m_assert_all_finite\u001b[1;34m(X, allow_nan, msg_dtype, estimator_name, input_name)\u001b[0m\n\u001b[0;32m    121\u001b[0m \u001b[38;5;28;01mif\u001b[39;00m first_pass_isfinite:\n\u001b[0;32m    122\u001b[0m     \u001b[38;5;28;01mreturn\u001b[39;00m\n\u001b[1;32m--> 124\u001b[0m _assert_all_finite_element_wise(\n\u001b[0;32m    125\u001b[0m     X,\n\u001b[0;32m    126\u001b[0m     xp\u001b[38;5;241m=\u001b[39mxp,\n\u001b[0;32m    127\u001b[0m     allow_nan\u001b[38;5;241m=\u001b[39mallow_nan,\n\u001b[0;32m    128\u001b[0m     msg_dtype\u001b[38;5;241m=\u001b[39mmsg_dtype,\n\u001b[0;32m    129\u001b[0m     estimator_name\u001b[38;5;241m=\u001b[39mestimator_name,\n\u001b[0;32m    130\u001b[0m     input_name\u001b[38;5;241m=\u001b[39minput_name,\n\u001b[0;32m    131\u001b[0m )\n",
      "File \u001b[1;32mF:\\anaconda\\Lib\\site-packages\\sklearn\\utils\\validation.py:173\u001b[0m, in \u001b[0;36m_assert_all_finite_element_wise\u001b[1;34m(X, xp, allow_nan, msg_dtype, estimator_name, input_name)\u001b[0m\n\u001b[0;32m    156\u001b[0m \u001b[38;5;28;01mif\u001b[39;00m estimator_name \u001b[38;5;129;01mand\u001b[39;00m input_name \u001b[38;5;241m==\u001b[39m \u001b[38;5;124m\"\u001b[39m\u001b[38;5;124mX\u001b[39m\u001b[38;5;124m\"\u001b[39m \u001b[38;5;129;01mand\u001b[39;00m has_nan_error:\n\u001b[0;32m    157\u001b[0m     \u001b[38;5;66;03m# Improve the error message on how to handle missing values in\u001b[39;00m\n\u001b[0;32m    158\u001b[0m     \u001b[38;5;66;03m# scikit-learn.\u001b[39;00m\n\u001b[0;32m    159\u001b[0m     msg_err \u001b[38;5;241m+\u001b[39m\u001b[38;5;241m=\u001b[39m (\n\u001b[0;32m    160\u001b[0m         \u001b[38;5;124mf\u001b[39m\u001b[38;5;124m\"\u001b[39m\u001b[38;5;130;01m\\n\u001b[39;00m\u001b[38;5;132;01m{\u001b[39;00mestimator_name\u001b[38;5;132;01m}\u001b[39;00m\u001b[38;5;124m does not accept missing values\u001b[39m\u001b[38;5;124m\"\u001b[39m\n\u001b[0;32m    161\u001b[0m         \u001b[38;5;124m\"\u001b[39m\u001b[38;5;124m encoded as NaN natively. For supervised learning, you might want\u001b[39m\u001b[38;5;124m\"\u001b[39m\n\u001b[1;32m   (...)\u001b[0m\n\u001b[0;32m    171\u001b[0m         \u001b[38;5;124m\"\u001b[39m\u001b[38;5;124m#estimators-that-handle-nan-values\u001b[39m\u001b[38;5;124m\"\u001b[39m\n\u001b[0;32m    172\u001b[0m     )\n\u001b[1;32m--> 173\u001b[0m \u001b[38;5;28;01mraise\u001b[39;00m \u001b[38;5;167;01mValueError\u001b[39;00m(msg_err)\n",
      "\u001b[1;31mValueError\u001b[0m: Input contains NaN."
     ]
    }
   ],
   "source": [
    "\n",
    "# Calculate MAE\n",
    "mae = mean_absolute_error(hourly_stat[ 'Gas_mean'], hourly_stat['est_gas_3'])\n",
    "print(f'Mean Absolute Error (MAE): {mae}')\n",
    "\n"
   ]
  },
  {
   "cell_type": "code",
   "execution_count": null,
   "id": "cc1e88d5",
   "metadata": {},
   "outputs": [],
   "source": [
    "# Calculate MSE\n",
    "mse = mean_squared_error(hourly_stat[ 'Gas_sum'], hourly_stat['est_gas_3'])\n",
    "print(f'Mean Squared Error (MSE): {mse}')\n",
    "\n"
   ]
  },
  {
   "cell_type": "code",
   "execution_count": null,
   "id": "2cafc692",
   "metadata": {},
   "outputs": [],
   "source": [
    "# Calculate RMSE\n",
    "rmse = np.sqrt(mse)\n",
    "print(f'Root Mean Squared Error (RMSE): {rmse}')\n"
   ]
  },
  {
   "cell_type": "code",
   "execution_count": null,
   "id": "c5a7b399",
   "metadata": {},
   "outputs": [],
   "source": [
    "\n",
    "# Calculate MAPE\n",
    "mape = np.mean(np.abs((hourly_stat[ 'Gas_sum'] - hourly_stat['est_gas_3']) / hourly_stat[ 'Gas_sum']).replace([np.inf, -np.inf], 0))*100\n",
    "#mape = mape.abs()\n",
    "#mape=mape.replace([np.inf, -np.inf], 0)\n",
    "print(f'Mean Absolute Percentage Error (MAPE): {mape}')\n",
    "\n"
   ]
  },
  {
   "cell_type": "code",
   "execution_count": null,
   "id": "b476d63e",
   "metadata": {},
   "outputs": [],
   "source": [
    "mape = np.mean(np.abs((hourly_stat[hourly_stat[ 'Gas_mean']<1] - hourly_stat['est_gas_3']) / hourly_stat[hourly_stat[ 'Gas_mean']<1]).replace([np.inf, -np.inf], 0))*100\n",
    "mape"
   ]
  },
  {
   "cell_type": "code",
   "execution_count": null,
   "id": "5a0a7539",
   "metadata": {},
   "outputs": [],
   "source": [
    "# Calculate R-squared\n",
    "r2 = r2_score(hourly_stat[ 'Gas_sum'], hourly_stat['est_gas_3'])\n",
    "print(f'R-squared (R^2): {r2}')"
   ]
  },
  {
   "cell_type": "code",
   "execution_count": null,
   "id": "ad1c25b8",
   "metadata": {},
   "outputs": [],
   "source": []
  },
  {
   "cell_type": "code",
   "execution_count": null,
   "id": "3374869b",
   "metadata": {},
   "outputs": [],
   "source": [
    "hourly_stat.dtypes"
   ]
  },
  {
   "cell_type": "code",
   "execution_count": null,
   "id": "afc2aaf6",
   "metadata": {},
   "outputs": [],
   "source": []
  },
  {
   "cell_type": "code",
   "execution_count": null,
   "id": "f12d9445",
   "metadata": {},
   "outputs": [],
   "source": [
    "# Coefficients derived from water heating period\n",
    "beta_temp = mean_DWH_gas_con_tem\n",
    "beta_hum = mean_DWH_gas_con_hum\n",
    "\n",
    "# Intercept terms (could be calculated as mean gas consumption during DWH and SH periods minus the respective contributions of temp and hum)\n",
    "gamma_0 = beta_0 + alpha_0  # Assuming you have calculated these intercepts separately\n",
    "\n",
    "# Combined gas consumption estimate\n",
    "hourly_stat['Gas_total_est'] = gamma_0 + beta_temp * (hourly_stat['DWH_temp_mean'] + hourly_stat['SH_temp_mean']) + beta_hum * (hourly_stat['DWH_hum_mean'] + hourly_stat['SH_hum_mean'])\n",
    "\n",
    "# Compare with actual gas consumption\n",
    "plt.plot(hourly_stat['Gas_sum'], label='Actual Gas Consumption')\n",
    "plt.plot(hourly_stat['Gas_total_est'], label='Estimated Gas Consumption')\n",
    "plt.legend()\n",
    "plt.show()\n"
   ]
  },
  {
   "cell_type": "code",
   "execution_count": null,
   "id": "fef8c3d0",
   "metadata": {},
   "outputs": [],
   "source": []
  },
  {
   "cell_type": "code",
   "execution_count": null,
   "id": "8797e74f",
   "metadata": {},
   "outputs": [],
   "source": []
  },
  {
   "cell_type": "code",
   "execution_count": null,
   "id": "ddc53a3d",
   "metadata": {},
   "outputs": [],
   "source": []
  },
  {
   "cell_type": "code",
   "execution_count": null,
   "id": "1696bcd8",
   "metadata": {},
   "outputs": [],
   "source": []
  },
  {
   "cell_type": "code",
   "execution_count": null,
   "id": "52dcedf7",
   "metadata": {},
   "outputs": [],
   "source": [
    " "
   ]
  },
  {
   "cell_type": "code",
   "execution_count": null,
   "id": "f58bc881",
   "metadata": {},
   "outputs": [],
   "source": []
  }
 ],
 "metadata": {
  "kernelspec": {
   "display_name": "Python 3 (ipykernel)",
   "language": "python",
   "name": "python3"
  },
  "language_info": {
   "codemirror_mode": {
    "name": "ipython",
    "version": 3
   },
   "file_extension": ".py",
   "mimetype": "text/x-python",
   "name": "python",
   "nbconvert_exporter": "python",
   "pygments_lexer": "ipython3",
   "version": "3.11.4"
  }
 },
 "nbformat": 4,
 "nbformat_minor": 5
}
