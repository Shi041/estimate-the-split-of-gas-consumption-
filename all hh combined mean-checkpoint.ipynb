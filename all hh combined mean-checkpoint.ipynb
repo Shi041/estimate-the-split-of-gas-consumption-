{
 "cells": [
  {
   "cell_type": "markdown",
   "id": "f8eb0d44",
   "metadata": {},
   "source": [
    "import pandas as pd\n",
    "import matplotlib.pyplot as plt\n",
    "import numpy as np"
   ]
  },
  {
   "cell_type": "markdown",
   "id": "d1514978",
   "metadata": {
    "scrolled": false
   },
   "source": [
    "import pandas as pd\n",
    "\n",
    "# List of file paths\n",
    "file_paths = [f'data/HH{i:02d}_all1.csv' for i in range(1, 31)]\n",
    "\n",
    "# Words to filter out\n",
    "filter_words = ['wind', 'rain', 'solar', 'hpa']\n",
    "\n",
    "# Dictionary to store DataFrames\n",
    "dataframes = {}\n",
    "\n",
    "# Load and rename columns for each DataFrame\n",
    "for i, file_path in enumerate(file_paths, start=1):\n",
    "    df = pd.read_csv(file_path)\n",
    "    # Rename 'Unnamed: 0' to 'date'\n",
    "    df.rename(columns={'Unnamed: 0': 'date'}, inplace=True)\n",
    "    # Rename other columns to include file identifier\n",
    "    df.columns = [f'{col}_{i}' if col != 'date' else col for col in df.columns]\n",
    "    # Filter out columns containing any of the filter words\n",
    "    df = df[[col for col in df.columns if not any(word in col.lower() for word in filter_words)]]\n",
    "    # Set 'date' as index\n",
    "    df.set_index('date', inplace=True)\n",
    "    # Store DataFrame in dictionary\n",
    "    dataframes[i] = df\n",
    "\n",
    "# Combine all DataFrames on the 'date' index using outer join\n",
    "combined_df = pd.concat(dataframes.values(), axis=1, join='inner')\n",
    "\n",
    "# Find the mean value for each group of similar columns\n",
    "mean_df = pd.DataFrame(index=combined_df.index)\n",
    "\n",
    "# Group columns by their base name (before the suffix)\n",
    "for base_col in set(col.rsplit('_', 1)[0] for col in combined_df.columns):\n",
    "    similar_cols = [col for col in combined_df.columns if col.startswith(base_col)]\n",
    "    if similar_cols:\n",
    "        mean_df[f'{base_col}_mean'] = combined_df[similar_cols].mean(axis=1)\n",
    "\n",
    "# Display the DataFrame with mean values\n",
    "mean_df.dtypes\n"
   ]
  },
  {
   "cell_type": "markdown",
   "id": "6e1c60b7",
   "metadata": {},
   "source": [
    "plt.plot(mean_df['bed_temp_mean'])\n",
    "plt.show()"
   ]
  },
  {
   "cell_type": "markdown",
   "id": "96387aa0",
   "metadata": {},
   "source": [
    "memory_usage = mean_df.memory_usage(deep=True)\n",
    "total_memory = memory_usage.sum()\n",
    "\n",
    "print(\"Memory usage by column (in bytes):\")\n",
    "print(memory_usage)\n",
    "print(f\"Total memory usage: {total_memory / (1024 ** 2):.2f} MB\")"
   ]
  },
  {
   "cell_type": "code",
   "execution_count": 17,
   "id": "f91a985a",
   "metadata": {},
   "outputs": [
    {
     "name": "stdout",
     "output_type": "stream",
     "text": [
      "               date  frontbed_temp_mean  smallbed_hum_mean  backroom_hum_mean  \\\n",
      "0  08/03/2020 00:00           20.830381              62.15                NaN   \n",
      "1  08/03/2020 00:30           20.510556              61.60               52.2   \n",
      "2  08/03/2020 01:00           20.618714              61.30               53.0   \n",
      "3  08/03/2020 01:30           20.521286              61.40               53.3   \n",
      "4  08/03/2020 02:00           20.732722              61.25               60.8   \n",
      "\n",
      "   box_hum_mean  bed_hum_mean  rearbed_temp_mean  hall_hum_mean  \\\n",
      "0     49.166667     56.405882              21.60      55.604167   \n",
      "1     49.200000     56.150000              21.47      56.640800   \n",
      "2     50.750000     57.241176              20.97      55.886250   \n",
      "3     50.133333     56.594444              20.64      57.254583   \n",
      "4     50.866667     56.827778              20.38      57.342083   \n",
      "\n",
      "   liv_temp_mean  backroom_temp_mean  ...  masterbed_hum_mean  bath_hum_mean  \\\n",
      "0      20.805552                 NaN  ...           58.007143      53.743913   \n",
      "1      20.605977               21.07  ...           58.323077      55.335417   \n",
      "2      20.424241               20.46  ...           58.842857      55.742800   \n",
      "3      20.181512               20.20  ...           59.235714      55.981600   \n",
      "4      20.056402               19.99  ...           59.603571      57.528000   \n",
      "\n",
      "   frontbedabovedoor_temp_mean  util_temp_mean  Air temp (degC)_mean  \\\n",
      "0                        22.23           19.83             10.100000   \n",
      "1                        21.91           19.55             10.100000   \n",
      "2                        21.62           19.91             10.033333   \n",
      "3                        21.60           20.36             10.166667   \n",
      "4                        21.58           19.99             10.200000   \n",
      "\n",
      "   leftbed_temp_mean  frontbedabovedoor_hum_mean  Elec kWh_mean  \\\n",
      "0          20.006667                        45.9       0.122552   \n",
      "1          19.856667                        45.8       0.107500   \n",
      "2          19.723333                        48.1       0.086967   \n",
      "3          19.603333                        48.8       0.189333   \n",
      "4          19.483333                        48.3       0.101467   \n",
      "\n",
      "   hall_temp_mean  RH (%)_mean  \n",
      "0       20.404893    82.666667  \n",
      "1       20.038397    83.000000  \n",
      "2       20.087053    85.000000  \n",
      "3       19.573187    84.333333  \n",
      "4       19.528480    84.000000  \n",
      "\n",
      "[5 rows x 46 columns]\n"
     ]
    }
   ],
   "source": [
    "import pandas as pd\n",
    "from functools import reduce\n",
    "\n",
    "# List of file paths\n",
    "file_paths = [f'data/HH{i:02d}_all1.csv' for i in range(1, 31)]\n",
    "\n",
    "# Words to filter out\n",
    "filter_words = ['wind', 'rain', 'solar', 'atoms']\n",
    "\n",
    "# List to store DataFrames\n",
    "dataframes = []\n",
    "\n",
    "# Load and rename columns for each DataFrame\n",
    "for i, file_path in enumerate(file_paths, start=1):\n",
    "    df = pd.read_csv(file_path)\n",
    "    # Rename 'Unnamed: 0' to 'date'\n",
    "    df.rename(columns={'Unnamed: 0': 'date'}, inplace=True)\n",
    "    # Rename other columns to include file identifier\n",
    "    df.columns = [f'{col}_{i}' if col != 'date' else col for col in df.columns]\n",
    "    # Filter out columns containing any of the filter words\n",
    "    df = df[[col for col in df.columns if not any(word in col.lower() for word in filter_words)]]\n",
    "    # Append DataFrame to the list\n",
    "    dataframes.append(df)\n",
    "\n",
    "# Perform inner join on the 'date' column for all DataFrames\n",
    "combined_df = reduce(lambda left, right: pd.merge(left, right, on='date', how='inner'), dataframes)\n",
    "\n",
    "# Find the mean value for each group of similar columns\n",
    "mean_df = pd.DataFrame()\n",
    "mean_df['date'] = combined_df['date']\n",
    "\n",
    "# Group columns by their base name (before the suffix)\n",
    "for base_col in set(col.rsplit('_', 1)[0] for col in combined_df.columns if col != 'date'):\n",
    "    similar_cols = [col for col in combined_df.columns if col.startswith(base_col)]\n",
    "    if similar_cols:\n",
    "        mean_df[f'{base_col}_mean'] = combined_df[similar_cols].mean(axis=1, skipna= True)\n",
    "\n",
    "# Display the DataFrame with mean values\n",
    "print(mean_df.head())\n"
   ]
  },
  {
   "cell_type": "code",
   "execution_count": 18,
   "id": "bcb6df2d",
   "metadata": {},
   "outputs": [
    {
     "name": "stdout",
     "output_type": "stream",
     "text": [
      "Memory usage by column (in bytes):\n",
      "Index                              132\n",
      "date                           1349040\n",
      "frontbed_temp_mean              147840\n",
      "smallbed_hum_mean               147840\n",
      "backroom_hum_mean               147840\n",
      "box_hum_mean                    147840\n",
      "bed_hum_mean                    147840\n",
      "rearbed_temp_mean               147840\n",
      "hall_hum_mean                   147840\n",
      "liv_temp_mean                   147840\n",
      "backroom_temp_mean              147840\n",
      "liv_hum_mean                    147840\n",
      "dining_temp_mean                147840\n",
      "frontbed_hum_mean               147840\n",
      "backbed_hum_mean                147840\n",
      "box_temp_mean                   147840\n",
      "mediumbed_hum_mean              147840\n",
      "backbed_temp_mean               147840\n",
      "bath_temp_mean                  147840\n",
      "smallliv_hum_mean               147840\n",
      "smallbed_temp_mean              147840\n",
      "util_hum_mean                   147840\n",
      "kit_temp_mean                   147840\n",
      "rearbed_hum_mean                147840\n",
      "mediumbed_temp_mean             147840\n",
      "toilet_hum_mean                 147840\n",
      "dining_hum_mean                 147840\n",
      "bed_temp_mean                   147840\n",
      "rightbed_hum_mean               147840\n",
      "Atmos press (hPa)_mean          147840\n",
      "leftbed_hum_mean                147840\n",
      "kit_hum_mean                    147840\n",
      "rightbed_temp_mean              147840\n",
      "Gas m3_mean                     147840\n",
      "smallliv_temp_mean              147840\n",
      "toilet_temp_mean                147840\n",
      "masterbed_temp_mean             147840\n",
      "masterbed_hum_mean              147840\n",
      "bath_hum_mean                   147840\n",
      "frontbedabovedoor_temp_mean     147840\n",
      "util_temp_mean                  147840\n",
      "Air temp (degC)_mean            147840\n",
      "leftbed_temp_mean               147840\n",
      "frontbedabovedoor_hum_mean      147840\n",
      "Elec kWh_mean                   147840\n",
      "hall_temp_mean                  147840\n",
      "RH (%)_mean                     147840\n",
      "dtype: int64\n",
      "Total memory usage: 7.63 MB\n"
     ]
    }
   ],
   "source": [
    "memory_usage = mean_df.memory_usage(deep=True)\n",
    "total_memory = memory_usage.sum()\n",
    "\n",
    "print(\"Memory usage by column (in bytes):\")\n",
    "print(memory_usage)\n",
    "print(f\"Total memory usage: {total_memory / (1024 ** 2):.2f} MB\")"
   ]
  },
  {
   "cell_type": "code",
   "execution_count": 19,
   "id": "2109285b",
   "metadata": {
    "scrolled": true
   },
   "outputs": [
    {
     "data": {
      "image/png": "[encoded data removed]",
      "text/plain": [
       "<Figure size 640x480 with 1 Axes>"
      ]
     },
     "metadata": {},
     "output_type": "display_data"
    }
   ],
   "source": [
    "plt.plot(mean_df['bed_temp_mean'])\n",
    "plt.show()"
   ]
  },
  {
   "cell_type": "code",
   "execution_count": 20,
   "id": "494c4450",
   "metadata": {},
   "outputs": [],
   "source": [
    "mean_df.to_csv('all_HH_combined_mean.csv')\n"
   ]
  },
  {
   "cell_type": "code",
   "execution_count": null,
   "id": "6db290b3",
   "metadata": {},
   "outputs": [],
   "source": []
  },
  {
   "cell_type": "code",
   "execution_count": 27,
   "id": "4fc0cc8f",
   "metadata": {},
   "outputs": [
    {
     "name": "stdout",
     "output_type": "stream",
     "text": [
      "CSV files containing columns with 'util':\n",
      "data/HH08_all1.csv\n"
     ]
    }
   ],
   "source": [
    "import pandas as pd\n",
    "\n",
    "# List of file paths\n",
    "file_paths = [f'data/HH{i:02d}_all1.csv' for i in range(1, 31)]\n",
    "\n",
    "# List to store filenames with columns containing \"box\"\n",
    "files_with_box_columns = []\n",
    "\n",
    "# Iterate through each file and check for columns containing \"box\"\n",
    "for i, file_path in enumerate(file_paths, start=1):\n",
    "    df = pd.read_csv(file_path)\n",
    "    # Check if any column contains the substring \"box\"\n",
    "    if any('box' in col.lower() for col in df.columns):\n",
    "        files_with_box_columns.append(file_path)\n",
    "\n",
    "# Print the filenames that contain columns with \"box\"\n",
    "print(\"CSV files containing columns with 'box':\")\n",
    "for file in files_with_box_columns:\n",
    "    print(file)\n",
    "\n",
    "    "
   ]
  },
  {
   "cell_type": "code",
   "execution_count": null,
   "id": "05daf60c",
   "metadata": {},
   "outputs": [],
   "source": []
  }
 ],
 "metadata": {
  "kernelspec": {
   "display_name": "Python 3 (ipykernel)",
   "language": "python",
   "name": "python3"
  },
  "language_info": {
   "codemirror_mode": {
    "name": "ipython",
    "version": 3
   },
   "file_extension": ".py",
   "mimetype": "text/x-python",
   "name": "python",
   "nbconvert_exporter": "python",
   "pygments_lexer": "ipython3",
   "version": "3.11.4"
  }
 },
 "nbformat": 4,
 "nbformat_minor": 5
}
