{
 "cells": [
  {
   "cell_type": "code",
   "execution_count": 4,
   "id": "06be5e7a",
   "metadata": {},
   "outputs": [],
   "source": [
    "import pandas as pd\n",
    "import matplotlib.pyplot as plt\n",
    "import numpy as np"
   ]
  },
  {
   "cell_type": "code",
   "execution_count": 5,
   "id": "cfca0915",
   "metadata": {},
   "outputs": [
    {
     "ename": "FileNotFoundError",
     "evalue": "[Errno 2] No such file or directory: 'HH28_all1.csv'",
     "output_type": "error",
     "traceback": [
      "\u001b[1;31m---------------------------------------------------------------------------\u001b[0m",
      "\u001b[1;31mFileNotFoundError\u001b[0m                         Traceback (most recent call last)",
      "Cell \u001b[1;32mIn[5], line 1\u001b[0m\n\u001b[1;32m----> 1\u001b[0m HH28_ALL \u001b[38;5;241m=\u001b[39m pd\u001b[38;5;241m.\u001b[39mread_csv(\u001b[38;5;124m'\u001b[39m\u001b[38;5;124mHH28_all1.csv\u001b[39m\u001b[38;5;124m'\u001b[39m)\n\u001b[0;32m      2\u001b[0m HH28_ALL\u001b[38;5;241m.\u001b[39mhead()\n",
      "File \u001b[1;32m~\\AppData\\Roaming\\Python\\Python311\\site-packages\\pandas\\io\\parsers\\readers.py:1026\u001b[0m, in \u001b[0;36mread_csv\u001b[1;34m(filepath_or_buffer, sep, delimiter, header, names, index_col, usecols, dtype, engine, converters, true_values, false_values, skipinitialspace, skiprows, skipfooter, nrows, na_values, keep_default_na, na_filter, verbose, skip_blank_lines, parse_dates, infer_datetime_format, keep_date_col, date_parser, date_format, dayfirst, cache_dates, iterator, chunksize, compression, thousands, decimal, lineterminator, quotechar, quoting, doublequote, escapechar, comment, encoding, encoding_errors, dialect, on_bad_lines, delim_whitespace, low_memory, memory_map, float_precision, storage_options, dtype_backend)\u001b[0m\n\u001b[0;32m   1013\u001b[0m kwds_defaults \u001b[38;5;241m=\u001b[39m _refine_defaults_read(\n\u001b[0;32m   1014\u001b[0m     dialect,\n\u001b[0;32m   1015\u001b[0m     delimiter,\n\u001b[1;32m   (...)\u001b[0m\n\u001b[0;32m   1022\u001b[0m     dtype_backend\u001b[38;5;241m=\u001b[39mdtype_backend,\n\u001b[0;32m   1023\u001b[0m )\n\u001b[0;32m   1024\u001b[0m kwds\u001b[38;5;241m.\u001b[39mupdate(kwds_defaults)\n\u001b[1;32m-> 1026\u001b[0m \u001b[38;5;28;01mreturn\u001b[39;00m _read(filepath_or_buffer, kwds)\n",
      "File \u001b[1;32m~\\AppData\\Roaming\\Python\\Python311\\site-packages\\pandas\\io\\parsers\\readers.py:620\u001b[0m, in \u001b[0;36m_read\u001b[1;34m(filepath_or_buffer, kwds)\u001b[0m\n\u001b[0;32m    617\u001b[0m _validate_names(kwds\u001b[38;5;241m.\u001b[39mget(\u001b[38;5;124m\"\u001b[39m\u001b[38;5;124mnames\u001b[39m\u001b[38;5;124m\"\u001b[39m, \u001b[38;5;28;01mNone\u001b[39;00m))\n\u001b[0;32m    619\u001b[0m \u001b[38;5;66;03m# Create the parser.\u001b[39;00m\n\u001b[1;32m--> 620\u001b[0m parser \u001b[38;5;241m=\u001b[39m TextFileReader(filepath_or_buffer, \u001b[38;5;241m*\u001b[39m\u001b[38;5;241m*\u001b[39mkwds)\n\u001b[0;32m    622\u001b[0m \u001b[38;5;28;01mif\u001b[39;00m chunksize \u001b[38;5;129;01mor\u001b[39;00m iterator:\n\u001b[0;32m    623\u001b[0m     \u001b[38;5;28;01mreturn\u001b[39;00m parser\n",
      "File \u001b[1;32m~\\AppData\\Roaming\\Python\\Python311\\site-packages\\pandas\\io\\parsers\\readers.py:1620\u001b[0m, in \u001b[0;36mTextFileReader.__init__\u001b[1;34m(self, f, engine, **kwds)\u001b[0m\n\u001b[0;32m   1617\u001b[0m     \u001b[38;5;28mself\u001b[39m\u001b[38;5;241m.\u001b[39moptions[\u001b[38;5;124m\"\u001b[39m\u001b[38;5;124mhas_index_names\u001b[39m\u001b[38;5;124m\"\u001b[39m] \u001b[38;5;241m=\u001b[39m kwds[\u001b[38;5;124m\"\u001b[39m\u001b[38;5;124mhas_index_names\u001b[39m\u001b[38;5;124m\"\u001b[39m]\n\u001b[0;32m   1619\u001b[0m \u001b[38;5;28mself\u001b[39m\u001b[38;5;241m.\u001b[39mhandles: IOHandles \u001b[38;5;241m|\u001b[39m \u001b[38;5;28;01mNone\u001b[39;00m \u001b[38;5;241m=\u001b[39m \u001b[38;5;28;01mNone\u001b[39;00m\n\u001b[1;32m-> 1620\u001b[0m \u001b[38;5;28mself\u001b[39m\u001b[38;5;241m.\u001b[39m_engine \u001b[38;5;241m=\u001b[39m \u001b[38;5;28mself\u001b[39m\u001b[38;5;241m.\u001b[39m_make_engine(f, \u001b[38;5;28mself\u001b[39m\u001b[38;5;241m.\u001b[39mengine)\n",
      "File \u001b[1;32m~\\AppData\\Roaming\\Python\\Python311\\site-packages\\pandas\\io\\parsers\\readers.py:1880\u001b[0m, in \u001b[0;36mTextFileReader._make_engine\u001b[1;34m(self, f, engine)\u001b[0m\n\u001b[0;32m   1878\u001b[0m     \u001b[38;5;28;01mif\u001b[39;00m \u001b[38;5;124m\"\u001b[39m\u001b[38;5;124mb\u001b[39m\u001b[38;5;124m\"\u001b[39m \u001b[38;5;129;01mnot\u001b[39;00m \u001b[38;5;129;01min\u001b[39;00m mode:\n\u001b[0;32m   1879\u001b[0m         mode \u001b[38;5;241m+\u001b[39m\u001b[38;5;241m=\u001b[39m \u001b[38;5;124m\"\u001b[39m\u001b[38;5;124mb\u001b[39m\u001b[38;5;124m\"\u001b[39m\n\u001b[1;32m-> 1880\u001b[0m \u001b[38;5;28mself\u001b[39m\u001b[38;5;241m.\u001b[39mhandles \u001b[38;5;241m=\u001b[39m get_handle(\n\u001b[0;32m   1881\u001b[0m     f,\n\u001b[0;32m   1882\u001b[0m     mode,\n\u001b[0;32m   1883\u001b[0m     encoding\u001b[38;5;241m=\u001b[39m\u001b[38;5;28mself\u001b[39m\u001b[38;5;241m.\u001b[39moptions\u001b[38;5;241m.\u001b[39mget(\u001b[38;5;124m\"\u001b[39m\u001b[38;5;124mencoding\u001b[39m\u001b[38;5;124m\"\u001b[39m, \u001b[38;5;28;01mNone\u001b[39;00m),\n\u001b[0;32m   1884\u001b[0m     compression\u001b[38;5;241m=\u001b[39m\u001b[38;5;28mself\u001b[39m\u001b[38;5;241m.\u001b[39moptions\u001b[38;5;241m.\u001b[39mget(\u001b[38;5;124m\"\u001b[39m\u001b[38;5;124mcompression\u001b[39m\u001b[38;5;124m\"\u001b[39m, \u001b[38;5;28;01mNone\u001b[39;00m),\n\u001b[0;32m   1885\u001b[0m     memory_map\u001b[38;5;241m=\u001b[39m\u001b[38;5;28mself\u001b[39m\u001b[38;5;241m.\u001b[39moptions\u001b[38;5;241m.\u001b[39mget(\u001b[38;5;124m\"\u001b[39m\u001b[38;5;124mmemory_map\u001b[39m\u001b[38;5;124m\"\u001b[39m, \u001b[38;5;28;01mFalse\u001b[39;00m),\n\u001b[0;32m   1886\u001b[0m     is_text\u001b[38;5;241m=\u001b[39mis_text,\n\u001b[0;32m   1887\u001b[0m     errors\u001b[38;5;241m=\u001b[39m\u001b[38;5;28mself\u001b[39m\u001b[38;5;241m.\u001b[39moptions\u001b[38;5;241m.\u001b[39mget(\u001b[38;5;124m\"\u001b[39m\u001b[38;5;124mencoding_errors\u001b[39m\u001b[38;5;124m\"\u001b[39m, \u001b[38;5;124m\"\u001b[39m\u001b[38;5;124mstrict\u001b[39m\u001b[38;5;124m\"\u001b[39m),\n\u001b[0;32m   1888\u001b[0m     storage_options\u001b[38;5;241m=\u001b[39m\u001b[38;5;28mself\u001b[39m\u001b[38;5;241m.\u001b[39moptions\u001b[38;5;241m.\u001b[39mget(\u001b[38;5;124m\"\u001b[39m\u001b[38;5;124mstorage_options\u001b[39m\u001b[38;5;124m\"\u001b[39m, \u001b[38;5;28;01mNone\u001b[39;00m),\n\u001b[0;32m   1889\u001b[0m )\n\u001b[0;32m   1890\u001b[0m \u001b[38;5;28;01massert\u001b[39;00m \u001b[38;5;28mself\u001b[39m\u001b[38;5;241m.\u001b[39mhandles \u001b[38;5;129;01mis\u001b[39;00m \u001b[38;5;129;01mnot\u001b[39;00m \u001b[38;5;28;01mNone\u001b[39;00m\n\u001b[0;32m   1891\u001b[0m f \u001b[38;5;241m=\u001b[39m \u001b[38;5;28mself\u001b[39m\u001b[38;5;241m.\u001b[39mhandles\u001b[38;5;241m.\u001b[39mhandle\n",
      "File \u001b[1;32m~\\AppData\\Roaming\\Python\\Python311\\site-packages\\pandas\\io\\common.py:873\u001b[0m, in \u001b[0;36mget_handle\u001b[1;34m(path_or_buf, mode, encoding, compression, memory_map, is_text, errors, storage_options)\u001b[0m\n\u001b[0;32m    868\u001b[0m \u001b[38;5;28;01melif\u001b[39;00m \u001b[38;5;28misinstance\u001b[39m(handle, \u001b[38;5;28mstr\u001b[39m):\n\u001b[0;32m    869\u001b[0m     \u001b[38;5;66;03m# Check whether the filename is to be opened in binary mode.\u001b[39;00m\n\u001b[0;32m    870\u001b[0m     \u001b[38;5;66;03m# Binary mode does not support 'encoding' and 'newline'.\u001b[39;00m\n\u001b[0;32m    871\u001b[0m     \u001b[38;5;28;01mif\u001b[39;00m ioargs\u001b[38;5;241m.\u001b[39mencoding \u001b[38;5;129;01mand\u001b[39;00m \u001b[38;5;124m\"\u001b[39m\u001b[38;5;124mb\u001b[39m\u001b[38;5;124m\"\u001b[39m \u001b[38;5;129;01mnot\u001b[39;00m \u001b[38;5;129;01min\u001b[39;00m ioargs\u001b[38;5;241m.\u001b[39mmode:\n\u001b[0;32m    872\u001b[0m         \u001b[38;5;66;03m# Encoding\u001b[39;00m\n\u001b[1;32m--> 873\u001b[0m         handle \u001b[38;5;241m=\u001b[39m \u001b[38;5;28mopen\u001b[39m(\n\u001b[0;32m    874\u001b[0m             handle,\n\u001b[0;32m    875\u001b[0m             ioargs\u001b[38;5;241m.\u001b[39mmode,\n\u001b[0;32m    876\u001b[0m             encoding\u001b[38;5;241m=\u001b[39mioargs\u001b[38;5;241m.\u001b[39mencoding,\n\u001b[0;32m    877\u001b[0m             errors\u001b[38;5;241m=\u001b[39merrors,\n\u001b[0;32m    878\u001b[0m             newline\u001b[38;5;241m=\u001b[39m\u001b[38;5;124m\"\u001b[39m\u001b[38;5;124m\"\u001b[39m,\n\u001b[0;32m    879\u001b[0m         )\n\u001b[0;32m    880\u001b[0m     \u001b[38;5;28;01melse\u001b[39;00m:\n\u001b[0;32m    881\u001b[0m         \u001b[38;5;66;03m# Binary mode\u001b[39;00m\n\u001b[0;32m    882\u001b[0m         handle \u001b[38;5;241m=\u001b[39m \u001b[38;5;28mopen\u001b[39m(handle, ioargs\u001b[38;5;241m.\u001b[39mmode)\n",
      "\u001b[1;31mFileNotFoundError\u001b[0m: [Errno 2] No such file or directory: 'HH28_all1.csv'"
     ]
    }
   ],
   "source": [
    "HH28_ALL = pd.read_csv('HH28_all1.csv')\n",
    "HH28_ALL.head()"
   ]
  },
  {
   "cell_type": "code",
   "execution_count": null,
   "id": "ba33096e",
   "metadata": {},
   "outputs": [],
   "source": [
    "HH28_ALL.columns = HH28_ALL.columns.str.replace('Air temp (degC)', 'ext_temp')\n",
    "HH28_ALL.columns = HH28_ALL.columns.str.replace('RH (%)', 'ext_RH')\n",
    "HH28_ALL.columns = HH28_ALL.columns.str.replace('Unnamed: 0','Date')\n"
   ]
  },
  {
   "cell_type": "code",
   "execution_count": null,
   "id": "8d54636c",
   "metadata": {},
   "outputs": [],
   "source": [
    "HH28_ALL['Date'] = pd.to_datetime(HH28_ALL['Date'], format=\"%d/%m/%Y %H:%M\", errors='coerce')\n",
    "HH28_ALL = HH28_ALL.set_index('Date')"
   ]
  },
  {
   "cell_type": "code",
   "execution_count": null,
   "id": "6102b7da",
   "metadata": {
    "scrolled": false
   },
   "outputs": [],
   "source": [
    "HH28_ALL.dtypes"
   ]
  },
  {
   "cell_type": "code",
   "execution_count": null,
   "id": "3a3875e5",
   "metadata": {},
   "outputs": [],
   "source": [
    "SH_TEMP_columns_of_interest = [col for col in HH28_ALL.columns if ('bed' in col or 'hall' in col or 'liv' in col) and 'temp' in col]\n",
    "SH_HUM_columns_of_interest = [col for col in HH28_ALL.columns if ('bed' in col or 'hall' in col or 'liv' in col) and 'hum' in col]\n",
    "DWH_TEMP_columns_of_interest = [col for col in HH28_ALL.columns if ('bath' in col) and 'temp' in col]\n",
    "DWH_HUM_columns_of_interest = [col for col in HH28_ALL.columns if ('bath' in col) and 'hum' in col]\n"
   ]
  },
  {
   "cell_type": "code",
   "execution_count": null,
   "id": "1a9ec735",
   "metadata": {},
   "outputs": [],
   "source": [
    "HH28_combined=pd.DataFrame()"
   ]
  },
  {
   "cell_type": "code",
   "execution_count": null,
   "id": "d263e1fc",
   "metadata": {},
   "outputs": [],
   "source": [
    "HH28_combined['Gas'] = HH28_ALL['Gas m3']\n",
    "HH28_combined['ext_temp'] = HH28_ALL['ext_temp']\n",
    "HH28_combined['ext_hum'] = HH28_ALL['ext_RH']\n",
    "HH28_combined['SH_temp_mean'] = HH28_ALL[SH_TEMP_columns_of_interest].mean(axis=1)\n",
    "HH28_combined['SH_hum_mean'] = HH28_ALL[SH_HUM_columns_of_interest].mean(axis=1)\n",
    "HH28_combined['DHW_temp_mean'] = HH28_ALL[DWH_TEMP_columns_of_interest].mean(axis=1)\n",
    "HH28_combined['DHW_hum_mean'] = HH28_ALL[DWH_HUM_columns_of_interest].mean(axis=1)\n",
    "\n"
   ]
  },
  {
   "cell_type": "code",
   "execution_count": null,
   "id": "a71ac4e8",
   "metadata": {},
   "outputs": [],
   "source": [
    "HH28_combined = HH28_combined.dropna(subset=['ext_temp'])"
   ]
  },
  {
   "cell_type": "code",
   "execution_count": null,
   "id": "d85b4af8",
   "metadata": {
    "scrolled": true
   },
   "outputs": [],
   "source": [
    "HH28_combined.tail()"
   ]
  },
  {
   "cell_type": "code",
   "execution_count": null,
   "id": "f84a5158",
   "metadata": {},
   "outputs": [],
   "source": [
    "HH_renamed_combined=HH28_combined"
   ]
  },
  {
   "cell_type": "code",
   "execution_count": null,
   "id": "c4757243",
   "metadata": {},
   "outputs": [],
   "source": []
  },
  {
   "cell_type": "code",
   "execution_count": null,
   "id": "d8c80266",
   "metadata": {},
   "outputs": [],
   "source": []
  },
  {
   "cell_type": "markdown",
   "id": "c4e0e2bb",
   "metadata": {},
   "source": [
    "# daily stat\n"
   ]
  },
  {
   "cell_type": "code",
   "execution_count": null,
   "id": "e2ff6d03",
   "metadata": {
    "scrolled": true
   },
   "outputs": [],
   "source": [
    "daily_SH_temp_max = HH_renamed_combined['SH_temp_mean'].resample('d').max()\n",
    "daily_SH_temp_min = HH_renamed_combined['SH_temp_mean'].resample('d').min()\n",
    "daily_SH_temp_mean = HH_renamed_combined['SH_temp_mean'].resample('d').mean()\n",
    "\n",
    "\n",
    "daily_SH_hum_max = HH_renamed_combined['SH_hum_mean'].resample('d').max()\n",
    "daily_SH_hum_min = HH_renamed_combined['SH_hum_mean'].resample('d').min()\n",
    "daily_SH_hum_mean = HH_renamed_combined['SH_hum_mean'].resample('d').mean()\n"
   ]
  },
  {
   "cell_type": "code",
   "execution_count": null,
   "id": "d8681a17",
   "metadata": {},
   "outputs": [],
   "source": [
    "daily_DWH_temp_max = HH_renamed_combined['DHW_temp_mean'].resample('d').max()\n",
    "daily_DWH_temp_min = HH_renamed_combined['DHW_temp_mean'].resample('d').min()\n",
    "daily_DWH_temp_mean = HH_renamed_combined['DHW_temp_mean'].resample('d').mean()\n",
    "\n",
    "\n",
    "daily_DWH_hum_max = HH_renamed_combined['DHW_hum_mean'].resample('d').max()\n",
    "daily_DWH_hum_min = HH_renamed_combined['DHW_hum_mean'].resample('d').min()\n",
    "daily_DWH_hum_mean = HH_renamed_combined['DHW_hum_mean'].resample('d').mean()"
   ]
  },
  {
   "cell_type": "code",
   "execution_count": null,
   "id": "0ce9a726",
   "metadata": {},
   "outputs": [],
   "source": [
    "daily_ext_temp_max = HH_renamed_combined['ext_temp'].resample('d').max()\n",
    "daily_ext_temp_min = HH_renamed_combined['ext_temp'].resample('d').min()\n",
    "daily_ext_temp_mean = HH_renamed_combined['ext_temp'].resample('d').mean()\n",
    "\n",
    "daily_ext_RH_max = HH_renamed_combined['ext_hum'].resample('d').max()\n",
    "daily_ext_RH_min = HH_renamed_combined['ext_hum'].resample('d').min()\n",
    "daily_ext_RH_mean = HH_renamed_combined['ext_hum'].resample('d').mean()\n",
    " "
   ]
  },
  {
   "cell_type": "code",
   "execution_count": null,
   "id": "9fa256ec",
   "metadata": {
    "scrolled": false
   },
   "outputs": [],
   "source": [
    "daily_Gas_sum = HH_renamed_combined['Gas'].resample('d').sum()\n"
   ]
  },
  {
   "cell_type": "code",
   "execution_count": null,
   "id": "904d7244",
   "metadata": {},
   "outputs": [],
   "source": [
    "daily_stat = pd.DataFrame({\n",
    "    'Gas_sum': daily_Gas_sum,\n",
    "    \n",
    "    'ext_temp_max': daily_ext_temp_max,\n",
    "    'ext_temp_min': daily_ext_temp_min,\n",
    "    'ext_temp_mean': daily_ext_temp_mean,\n",
    "\n",
    "    'ext_hum_max': daily_ext_RH_max,\n",
    "    'ext_hum_min': daily_ext_RH_min,    \n",
    "    'ext_hum_mean': daily_ext_RH_mean,\n",
    "\n",
    "    \n",
    "    'SH_temp_max': daily_SH_temp_max,\n",
    "    'SH_temp_min': daily_SH_temp_min,    \n",
    "    'SH_temp_mean': daily_SH_temp_mean,\n",
    "    \n",
    "    'SH_hum_max': daily_SH_hum_max,\n",
    "    'SH_hum_min': daily_SH_hum_min,\n",
    "    'SH_hum_mean': daily_SH_hum_mean,\n",
    "    \n",
    "    'DWH_temp_max': daily_DWH_temp_max,\n",
    "    'DWH_temp_min': daily_DWH_temp_min,\n",
    "    'DWH_temp_mean': daily_DWH_temp_mean,\n",
    "    \n",
    "    'DWH_hum_max': daily_DWH_hum_max,\n",
    "    'DWH_hum_min': daily_DWH_hum_min,\n",
    "    'DWH_hum_mean': daily_DWH_hum_mean,\n",
    "\n",
    "\n",
    "\n",
    "       \n",
    "\n",
    "})\n"
   ]
  },
  {
   "cell_type": "code",
   "execution_count": null,
   "id": "2297a3a2",
   "metadata": {},
   "outputs": [],
   "source": [
    "daily_stat"
   ]
  },
  {
   "cell_type": "code",
   "execution_count": null,
   "id": "8cda1469",
   "metadata": {},
   "outputs": [],
   "source": [
    "daily_stat.to_csv('HH28_daily_stat.csv')\n"
   ]
  },
  {
   "cell_type": "code",
   "execution_count": null,
   "id": "fafe3c90",
   "metadata": {},
   "outputs": [],
   "source": []
  },
  {
   "cell_type": "code",
   "execution_count": null,
   "id": "09e265d8",
   "metadata": {},
   "outputs": [],
   "source": []
  },
  {
   "cell_type": "code",
   "execution_count": null,
   "id": "df129c85",
   "metadata": {},
   "outputs": [],
   "source": []
  },
  {
   "cell_type": "code",
   "execution_count": null,
   "id": "9a227412",
   "metadata": {},
   "outputs": [],
   "source": []
  },
  {
   "cell_type": "code",
   "execution_count": null,
   "id": "822ad497",
   "metadata": {},
   "outputs": [],
   "source": []
  },
  {
   "cell_type": "code",
   "execution_count": null,
   "id": "230415e2",
   "metadata": {},
   "outputs": [],
   "source": []
  },
  {
   "cell_type": "markdown",
   "id": "e49b6dc0",
   "metadata": {},
   "source": [
    "# hourly stat "
   ]
  },
  {
   "cell_type": "code",
   "execution_count": null,
   "id": "5ecd94da",
   "metadata": {
    "scrolled": true
   },
   "outputs": [],
   "source": [
    "hourly_SH_temp_max = HH_renamed_combined['SH_temp_mean'].resample('h').max()\n",
    "hourly_SH_temp_min = HH_renamed_combined['SH_temp_mean'].resample('h').min()\n",
    "hourly_SH_temp_mean = HH_renamed_combined['SH_temp_mean'].resample('h').mean()\n",
    "\n",
    "\n",
    "hourly_SH_hum_max = HH_renamed_combined['SH_hum_mean'].resample('h').max()\n",
    "hourly_SH_hum_min = HH_renamed_combined['SH_hum_mean'].resample('h').min()\n",
    "hourly_SH_hum_mean = HH_renamed_combined['SH_hum_mean'].resample('h').mean()\n"
   ]
  },
  {
   "cell_type": "code",
   "execution_count": null,
   "id": "3db94664",
   "metadata": {},
   "outputs": [],
   "source": [
    "hourly_DWH_temp_max = HH_renamed_combined['DHW_temp_mean'].resample('h').max()\n",
    "hourly_DWH_temp_min = HH_renamed_combined['DHW_temp_mean'].resample('h').min()\n",
    "hourly_DWH_temp_mean = HH_renamed_combined['DHW_temp_mean'].resample('h').mean()\n",
    "\n",
    "\n",
    "hourly_DWH_hum_max = HH_renamed_combined['DHW_hum_mean'].resample('h').max()\n",
    "hourly_DWH_hum_min = HH_renamed_combined['DHW_hum_mean'].resample('h').min()\n",
    "hourly_DWH_hum_mean = HH_renamed_combined['DHW_hum_mean'].resample('h').mean()"
   ]
  },
  {
   "cell_type": "code",
   "execution_count": null,
   "id": "a6c56730",
   "metadata": {},
   "outputs": [],
   "source": [
    "hourly_ext_temp_max = HH_renamed_combined['ext_temp'].resample('h').max()\n",
    "hourly_ext_temp_min = HH_renamed_combined['ext_temp'].resample('h').min()\n",
    "hourly_ext_temp_mean = HH_renamed_combined['ext_temp'].resample('h').mean()\n",
    "\n",
    "hourly_ext_RH_max = HH_renamed_combined['ext_hum'].resample('h').max()\n",
    "hourly_ext_RH_min = HH_renamed_combined['ext_hum'].resample('h').min()\n",
    "hourly_ext_RH_mean = HH_renamed_combined['ext_hum'].resample('h').mean()\n",
    " "
   ]
  },
  {
   "cell_type": "code",
   "execution_count": null,
   "id": "f2351df6",
   "metadata": {
    "scrolled": false
   },
   "outputs": [],
   "source": [
    "hourly_Gas_sum = HH_renamed_combined['Gas'].resample('h').sum()\n"
   ]
  },
  {
   "cell_type": "code",
   "execution_count": null,
   "id": "dc581d98",
   "metadata": {},
   "outputs": [],
   "source": [
    "hourly_stat = pd.DataFrame({\n",
    "    'Gas_sum': hourly_Gas_sum,\n",
    "    \n",
    "    'ext_temp_max': hourly_ext_temp_max,\n",
    "    'ext_temp_min': hourly_ext_temp_min,\n",
    "    'ext_temp_mean': hourly_ext_temp_mean,\n",
    "\n",
    "    'ext_hum_max': hourly_ext_RH_max,\n",
    "    'ext_hum_min': hourly_ext_RH_min,    \n",
    "    'ext_hum_mean': hourly_ext_RH_mean,\n",
    "\n",
    "    \n",
    "    'SH_temp_max': hourly_SH_temp_max,\n",
    "    'SH_temp_min': hourly_SH_temp_min,    \n",
    "    'SH_temp_mean': hourly_SH_temp_mean,\n",
    "    \n",
    "    'SH_hum_max': hourly_SH_hum_max,\n",
    "    'SH_hum_min': hourly_SH_hum_min,\n",
    "    'SH_hum_mean': hourly_SH_hum_mean,\n",
    "    \n",
    "    'DWH_temp_max': hourly_DWH_temp_max,\n",
    "    'DWH_temp_min': hourly_DWH_temp_min,\n",
    "    'DWH_temp_mean': hourly_DWH_temp_mean,\n",
    "    \n",
    "    'DWH_hum_max': hourly_DWH_hum_max,\n",
    "    'DWH_hum_min': hourly_DWH_hum_min,\n",
    "    'DWH_hum_mean': hourly_DWH_hum_mean,\n",
    "\n",
    "\n",
    "\n",
    "       \n",
    "\n",
    "})\n"
   ]
  },
  {
   "cell_type": "code",
   "execution_count": null,
   "id": "72fb1513",
   "metadata": {
    "scrolled": true
   },
   "outputs": [],
   "source": [
    "hourly_stat"
   ]
  },
  {
   "cell_type": "code",
   "execution_count": null,
   "id": "d1ecc20a",
   "metadata": {},
   "outputs": [],
   "source": [
    "hourly_stat.to_csv('HH28_hourly_stat.csv')\n"
   ]
  },
  {
   "cell_type": "code",
   "execution_count": null,
   "id": "6381696c",
   "metadata": {},
   "outputs": [],
   "source": []
  },
  {
   "cell_type": "code",
   "execution_count": null,
   "id": "4a98d803",
   "metadata": {},
   "outputs": [],
   "source": []
  },
  {
   "cell_type": "code",
   "execution_count": null,
   "id": "ed04dd1b",
   "metadata": {},
   "outputs": [],
   "source": []
  },
  {
   "cell_type": "code",
   "execution_count": null,
   "id": "681a9773",
   "metadata": {},
   "outputs": [],
   "source": []
  },
  {
   "cell_type": "code",
   "execution_count": null,
   "id": "c5d99883",
   "metadata": {},
   "outputs": [],
   "source": []
  },
  {
   "cell_type": "code",
   "execution_count": null,
   "id": "49bc43b2",
   "metadata": {},
   "outputs": [],
   "source": []
  },
  {
   "cell_type": "code",
   "execution_count": null,
   "id": "7e64e2f6",
   "metadata": {},
   "outputs": [],
   "source": []
  },
  {
   "cell_type": "code",
   "execution_count": null,
   "id": "d8b929c1",
   "metadata": {},
   "outputs": [],
   "source": []
  },
  {
   "cell_type": "code",
   "execution_count": null,
   "id": "729b8625",
   "metadata": {},
   "outputs": [],
   "source": []
  },
  {
   "cell_type": "code",
   "execution_count": null,
   "id": "b7a63f6c",
   "metadata": {},
   "outputs": [],
   "source": []
  },
  {
   "cell_type": "code",
   "execution_count": null,
   "id": "48bef11c",
   "metadata": {},
   "outputs": [],
   "source": []
  },
  {
   "cell_type": "code",
   "execution_count": null,
   "id": "6b15cbd9",
   "metadata": {},
   "outputs": [],
   "source": []
  },
  {
   "cell_type": "code",
   "execution_count": null,
   "id": "e33376a8",
   "metadata": {},
   "outputs": [],
   "source": []
  },
  {
   "cell_type": "code",
   "execution_count": null,
   "id": "92bfb2cc",
   "metadata": {},
   "outputs": [],
   "source": []
  },
  {
   "cell_type": "code",
   "execution_count": null,
   "id": "54aca5e3",
   "metadata": {},
   "outputs": [],
   "source": []
  },
  {
   "cell_type": "code",
   "execution_count": null,
   "id": "83633c12",
   "metadata": {},
   "outputs": [],
   "source": []
  },
  {
   "cell_type": "code",
   "execution_count": null,
   "id": "0226db55",
   "metadata": {},
   "outputs": [],
   "source": []
  },
  {
   "cell_type": "code",
   "execution_count": null,
   "id": "0accb9b8",
   "metadata": {},
   "outputs": [],
   "source": []
  },
  {
   "cell_type": "code",
   "execution_count": null,
   "id": "3e2577fd",
   "metadata": {},
   "outputs": [],
   "source": []
  },
  {
   "cell_type": "code",
   "execution_count": null,
   "id": "f3e323f7",
   "metadata": {},
   "outputs": [],
   "source": []
  },
  {
   "cell_type": "code",
   "execution_count": null,
   "id": "be78a8f3",
   "metadata": {},
   "outputs": [],
   "source": []
  },
  {
   "cell_type": "code",
   "execution_count": null,
   "id": "e15d875f",
   "metadata": {},
   "outputs": [],
   "source": []
  },
  {
   "cell_type": "code",
   "execution_count": null,
   "id": "aa5931b4",
   "metadata": {},
   "outputs": [],
   "source": []
  },
  {
   "cell_type": "code",
   "execution_count": null,
   "id": "a482db34",
   "metadata": {},
   "outputs": [],
   "source": []
  },
  {
   "cell_type": "code",
   "execution_count": null,
   "id": "4ac2b25c",
   "metadata": {},
   "outputs": [],
   "source": []
  },
  {
   "cell_type": "code",
   "execution_count": null,
   "id": "2afe5f6b",
   "metadata": {},
   "outputs": [],
   "source": []
  },
  {
   "cell_type": "code",
   "execution_count": null,
   "id": "921ca4df",
   "metadata": {},
   "outputs": [],
   "source": []
  },
  {
   "cell_type": "code",
   "execution_count": null,
   "id": "7bd23bbf",
   "metadata": {},
   "outputs": [],
   "source": []
  },
  {
   "cell_type": "code",
   "execution_count": null,
   "id": "ff8c2530",
   "metadata": {},
   "outputs": [],
   "source": []
  },
  {
   "cell_type": "code",
   "execution_count": null,
   "id": "052d60de",
   "metadata": {},
   "outputs": [],
   "source": []
  },
  {
   "cell_type": "code",
   "execution_count": null,
   "id": "8e20b101",
   "metadata": {},
   "outputs": [],
   "source": []
  },
  {
   "cell_type": "code",
   "execution_count": null,
   "id": "6fb7708e",
   "metadata": {},
   "outputs": [],
   "source": []
  },
  {
   "cell_type": "code",
   "execution_count": null,
   "id": "2c90b1f6",
   "metadata": {},
   "outputs": [],
   "source": []
  },
  {
   "cell_type": "code",
   "execution_count": null,
   "id": "26faaf6e",
   "metadata": {},
   "outputs": [],
   "source": []
  },
  {
   "cell_type": "code",
   "execution_count": null,
   "id": "b21697ca",
   "metadata": {},
   "outputs": [],
   "source": []
  }
 ],
 "metadata": {
  "kernelspec": {
   "display_name": "Python 3 (ipykernel)",
   "language": "python",
   "name": "python3"
  },
  "language_info": {
   "codemirror_mode": {
    "name": "ipython",
    "version": 3
   },
   "file_extension": ".py",
   "mimetype": "text/x-python",
   "name": "python",
   "nbconvert_exporter": "python",
   "pygments_lexer": "ipython3",
   "version": "3.11.4"
  }
 },
 "nbformat": 4,
 "nbformat_minor": 5
}
